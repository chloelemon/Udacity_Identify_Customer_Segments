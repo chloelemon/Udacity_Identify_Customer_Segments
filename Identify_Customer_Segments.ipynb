{
 "cells": [
  {
   "cell_type": "markdown",
   "metadata": {},
   "source": [
    "# Project: Identify Customer Segments\n",
    "\n",
    "In this project, you will apply unsupervised learning techniques to identify segments of the population that form the core customer base for a mail-order sales company in Germany. These segments can then be used to direct marketing campaigns towards audiences that will have the highest expected rate of returns. The data that you will use has been provided by our partners at Bertelsmann Arvato Analytics, and represents a real-life data science task.\n",
    "\n",
    "This notebook will help you complete this task by providing a framework within which you will perform your analysis steps. In each step of the project, you will see some text describing the subtask that you will perform, followed by one or more code cells for you to complete your work. **Feel free to add additional code and markdown cells as you go along so that you can explore everything in precise chunks.** The code cells provided in the base template will outline only the major tasks, and will usually not be enough to cover all of the minor tasks that comprise it.\n",
    "\n",
    "It should be noted that while there will be precise guidelines on how you should handle certain tasks in the project, there will also be places where an exact specification is not provided. **There will be times in the project where you will need to make and justify your own decisions on how to treat the data.** These are places where there may not be only one way to handle the data. In real-life tasks, there may be many valid ways to approach an analysis task. One of the most important things you can do is clearly document your approach so that other scientists can understand the decisions you've made.\n",
    "\n",
    "At the end of most sections, there will be a Markdown cell labeled **Discussion**. In these cells, you will report your findings for the completed section, as well as document the decisions that you made in your approach to each subtask. **Your project will be evaluated not just on the code used to complete the tasks outlined, but also your communication about your observations and conclusions at each stage.**"
   ]
  },
  {
   "cell_type": "code",
   "execution_count": 448,
   "metadata": {},
   "outputs": [],
   "source": [
    "# import libraries here; add more as necessary\n",
    "import numpy as np\n",
    "import pandas as pd\n",
    "import matplotlib.pyplot as plt\n",
    "import seaborn as sns\n",
    "\n",
    "# magic word for producing visualizations in notebook\n",
    "%matplotlib inline"
   ]
  },
  {
   "cell_type": "markdown",
   "metadata": {},
   "source": [
    "### Step 0: Load the Data\n",
    "\n",
    "There are four files associated with this project (not including this one):\n",
    "\n",
    "- `Udacity_AZDIAS_Subset.csv`: Demographics data for the general population of Germany; 891211 persons (rows) x 85 features (columns).\n",
    "- `Udacity_CUSTOMERS_Subset.csv`: Demographics data for customers of a mail-order company; 191652 persons (rows) x 85 features (columns).\n",
    "- `Data_Dictionary.md`: Detailed information file about the features in the provided datasets.\n",
    "- `AZDIAS_Feature_Summary.csv`: Summary of feature attributes for demographics data; 85 features (rows) x 4 columns\n",
    "\n",
    "Each row of the demographics files represents a single person, but also includes information outside of individuals, including information about their household, building, and neighborhood. You will use this information to cluster the general population into groups with similar demographic properties. Then, you will see how the people in the customers dataset fit into those created clusters. The hope here is that certain clusters are over-represented in the customers data, as compared to the general population; those over-represented clusters will be assumed to be part of the core userbase. This information can then be used for further applications, such as targeting for a marketing campaign.\n",
    "\n",
    "To start off with, load in the demographics data for the general population into a pandas DataFrame, and do the same for the feature attributes summary. Note for all of the `.csv` data files in this project: they're semicolon (`;`) delimited, so you'll need an additional argument in your [`read_csv()`](https://pandas.pydata.org/pandas-docs/stable/generated/pandas.read_csv.html) call to read in the data properly. Also, considering the size of the main dataset, it may take some time for it to load completely.\n",
    "\n",
    "Once the dataset is loaded, it's recommended that you take a little bit of time just browsing the general structure of the dataset and feature summary file. You'll be getting deep into the innards of the cleaning in the first major step of the project, so gaining some general familiarity can help you get your bearings."
   ]
  },
  {
   "cell_type": "code",
   "execution_count": 449,
   "metadata": {},
   "outputs": [],
   "source": [
    "# Load in the general demographics data.\n",
    "azdias = pd.read_csv('Udacity_AZDIAS_Subset.csv', delimiter=';')\n",
    "\n",
    "# Load in the feature summary file.\n",
    "feat_info = pd.read_csv('AZDIAS_Feature_Summary.csv', delimiter=';')"
   ]
  },
  {
   "cell_type": "code",
   "execution_count": 450,
   "metadata": {},
   "outputs": [],
   "source": [
    "# Check the structure of the data after it's loaded (e.g. print the number of\n",
    "# rows and columns, print the first few rows).\n"
   ]
  },
  {
   "cell_type": "code",
   "execution_count": 451,
   "metadata": {},
   "outputs": [
    {
     "data": {
      "text/html": [
       "<div>\n",
       "<style scoped>\n",
       "    .dataframe tbody tr th:only-of-type {\n",
       "        vertical-align: middle;\n",
       "    }\n",
       "\n",
       "    .dataframe tbody tr th {\n",
       "        vertical-align: top;\n",
       "    }\n",
       "\n",
       "    .dataframe thead th {\n",
       "        text-align: right;\n",
       "    }\n",
       "</style>\n",
       "<table border=\"1\" class=\"dataframe\">\n",
       "  <thead>\n",
       "    <tr style=\"text-align: right;\">\n",
       "      <th></th>\n",
       "      <th>AGER_TYP</th>\n",
       "      <th>ALTERSKATEGORIE_GROB</th>\n",
       "      <th>ANREDE_KZ</th>\n",
       "      <th>CJT_GESAMTTYP</th>\n",
       "      <th>FINANZ_MINIMALIST</th>\n",
       "      <th>FINANZ_SPARER</th>\n",
       "      <th>FINANZ_VORSORGER</th>\n",
       "      <th>FINANZ_ANLEGER</th>\n",
       "      <th>FINANZ_UNAUFFAELLIGER</th>\n",
       "      <th>FINANZ_HAUSBAUER</th>\n",
       "      <th>...</th>\n",
       "      <th>PLZ8_ANTG1</th>\n",
       "      <th>PLZ8_ANTG2</th>\n",
       "      <th>PLZ8_ANTG3</th>\n",
       "      <th>PLZ8_ANTG4</th>\n",
       "      <th>PLZ8_BAUMAX</th>\n",
       "      <th>PLZ8_HHZ</th>\n",
       "      <th>PLZ8_GBZ</th>\n",
       "      <th>ARBEIT</th>\n",
       "      <th>ORTSGR_KLS9</th>\n",
       "      <th>RELAT_AB</th>\n",
       "    </tr>\n",
       "  </thead>\n",
       "  <tbody>\n",
       "    <tr>\n",
       "      <th>0</th>\n",
       "      <td>-1</td>\n",
       "      <td>2</td>\n",
       "      <td>1</td>\n",
       "      <td>2.0</td>\n",
       "      <td>3</td>\n",
       "      <td>4</td>\n",
       "      <td>3</td>\n",
       "      <td>5</td>\n",
       "      <td>5</td>\n",
       "      <td>3</td>\n",
       "      <td>...</td>\n",
       "      <td>NaN</td>\n",
       "      <td>NaN</td>\n",
       "      <td>NaN</td>\n",
       "      <td>NaN</td>\n",
       "      <td>NaN</td>\n",
       "      <td>NaN</td>\n",
       "      <td>NaN</td>\n",
       "      <td>NaN</td>\n",
       "      <td>NaN</td>\n",
       "      <td>NaN</td>\n",
       "    </tr>\n",
       "    <tr>\n",
       "      <th>1</th>\n",
       "      <td>-1</td>\n",
       "      <td>1</td>\n",
       "      <td>2</td>\n",
       "      <td>5.0</td>\n",
       "      <td>1</td>\n",
       "      <td>5</td>\n",
       "      <td>2</td>\n",
       "      <td>5</td>\n",
       "      <td>4</td>\n",
       "      <td>5</td>\n",
       "      <td>...</td>\n",
       "      <td>2.0</td>\n",
       "      <td>3.0</td>\n",
       "      <td>2.0</td>\n",
       "      <td>1.0</td>\n",
       "      <td>1.0</td>\n",
       "      <td>5.0</td>\n",
       "      <td>4.0</td>\n",
       "      <td>3.0</td>\n",
       "      <td>5.0</td>\n",
       "      <td>4.0</td>\n",
       "    </tr>\n",
       "    <tr>\n",
       "      <th>2</th>\n",
       "      <td>-1</td>\n",
       "      <td>3</td>\n",
       "      <td>2</td>\n",
       "      <td>3.0</td>\n",
       "      <td>1</td>\n",
       "      <td>4</td>\n",
       "      <td>1</td>\n",
       "      <td>2</td>\n",
       "      <td>3</td>\n",
       "      <td>5</td>\n",
       "      <td>...</td>\n",
       "      <td>3.0</td>\n",
       "      <td>3.0</td>\n",
       "      <td>1.0</td>\n",
       "      <td>0.0</td>\n",
       "      <td>1.0</td>\n",
       "      <td>4.0</td>\n",
       "      <td>4.0</td>\n",
       "      <td>3.0</td>\n",
       "      <td>5.0</td>\n",
       "      <td>2.0</td>\n",
       "    </tr>\n",
       "    <tr>\n",
       "      <th>3</th>\n",
       "      <td>2</td>\n",
       "      <td>4</td>\n",
       "      <td>2</td>\n",
       "      <td>2.0</td>\n",
       "      <td>4</td>\n",
       "      <td>2</td>\n",
       "      <td>5</td>\n",
       "      <td>2</td>\n",
       "      <td>1</td>\n",
       "      <td>2</td>\n",
       "      <td>...</td>\n",
       "      <td>2.0</td>\n",
       "      <td>2.0</td>\n",
       "      <td>2.0</td>\n",
       "      <td>0.0</td>\n",
       "      <td>1.0</td>\n",
       "      <td>3.0</td>\n",
       "      <td>4.0</td>\n",
       "      <td>2.0</td>\n",
       "      <td>3.0</td>\n",
       "      <td>3.0</td>\n",
       "    </tr>\n",
       "    <tr>\n",
       "      <th>4</th>\n",
       "      <td>-1</td>\n",
       "      <td>3</td>\n",
       "      <td>1</td>\n",
       "      <td>5.0</td>\n",
       "      <td>4</td>\n",
       "      <td>3</td>\n",
       "      <td>4</td>\n",
       "      <td>1</td>\n",
       "      <td>3</td>\n",
       "      <td>2</td>\n",
       "      <td>...</td>\n",
       "      <td>2.0</td>\n",
       "      <td>4.0</td>\n",
       "      <td>2.0</td>\n",
       "      <td>1.0</td>\n",
       "      <td>2.0</td>\n",
       "      <td>3.0</td>\n",
       "      <td>3.0</td>\n",
       "      <td>4.0</td>\n",
       "      <td>6.0</td>\n",
       "      <td>5.0</td>\n",
       "    </tr>\n",
       "  </tbody>\n",
       "</table>\n",
       "<p>5 rows × 85 columns</p>\n",
       "</div>"
      ],
      "text/plain": [
       "   AGER_TYP  ALTERSKATEGORIE_GROB  ANREDE_KZ  CJT_GESAMTTYP  \\\n",
       "0        -1                     2          1            2.0   \n",
       "1        -1                     1          2            5.0   \n",
       "2        -1                     3          2            3.0   \n",
       "3         2                     4          2            2.0   \n",
       "4        -1                     3          1            5.0   \n",
       "\n",
       "   FINANZ_MINIMALIST  FINANZ_SPARER  FINANZ_VORSORGER  FINANZ_ANLEGER  \\\n",
       "0                  3              4                 3               5   \n",
       "1                  1              5                 2               5   \n",
       "2                  1              4                 1               2   \n",
       "3                  4              2                 5               2   \n",
       "4                  4              3                 4               1   \n",
       "\n",
       "   FINANZ_UNAUFFAELLIGER  FINANZ_HAUSBAUER    ...     PLZ8_ANTG1  PLZ8_ANTG2  \\\n",
       "0                      5                 3    ...            NaN         NaN   \n",
       "1                      4                 5    ...            2.0         3.0   \n",
       "2                      3                 5    ...            3.0         3.0   \n",
       "3                      1                 2    ...            2.0         2.0   \n",
       "4                      3                 2    ...            2.0         4.0   \n",
       "\n",
       "   PLZ8_ANTG3  PLZ8_ANTG4  PLZ8_BAUMAX  PLZ8_HHZ  PLZ8_GBZ  ARBEIT  \\\n",
       "0         NaN         NaN          NaN       NaN       NaN     NaN   \n",
       "1         2.0         1.0          1.0       5.0       4.0     3.0   \n",
       "2         1.0         0.0          1.0       4.0       4.0     3.0   \n",
       "3         2.0         0.0          1.0       3.0       4.0     2.0   \n",
       "4         2.0         1.0          2.0       3.0       3.0     4.0   \n",
       "\n",
       "   ORTSGR_KLS9  RELAT_AB  \n",
       "0          NaN       NaN  \n",
       "1          5.0       4.0  \n",
       "2          5.0       2.0  \n",
       "3          3.0       3.0  \n",
       "4          6.0       5.0  \n",
       "\n",
       "[5 rows x 85 columns]"
      ]
     },
     "execution_count": 451,
     "metadata": {},
     "output_type": "execute_result"
    }
   ],
   "source": [
    "azdias.head()"
   ]
  },
  {
   "cell_type": "code",
   "execution_count": 452,
   "metadata": {},
   "outputs": [
    {
     "data": {
      "text/html": [
       "<div>\n",
       "<style scoped>\n",
       "    .dataframe tbody tr th:only-of-type {\n",
       "        vertical-align: middle;\n",
       "    }\n",
       "\n",
       "    .dataframe tbody tr th {\n",
       "        vertical-align: top;\n",
       "    }\n",
       "\n",
       "    .dataframe thead th {\n",
       "        text-align: right;\n",
       "    }\n",
       "</style>\n",
       "<table border=\"1\" class=\"dataframe\">\n",
       "  <thead>\n",
       "    <tr style=\"text-align: right;\">\n",
       "      <th></th>\n",
       "      <th>AGER_TYP</th>\n",
       "      <th>ALTERSKATEGORIE_GROB</th>\n",
       "      <th>ANREDE_KZ</th>\n",
       "      <th>CJT_GESAMTTYP</th>\n",
       "      <th>FINANZ_MINIMALIST</th>\n",
       "      <th>FINANZ_SPARER</th>\n",
       "      <th>FINANZ_VORSORGER</th>\n",
       "      <th>FINANZ_ANLEGER</th>\n",
       "      <th>FINANZ_UNAUFFAELLIGER</th>\n",
       "      <th>FINANZ_HAUSBAUER</th>\n",
       "      <th>...</th>\n",
       "      <th>PLZ8_ANTG1</th>\n",
       "      <th>PLZ8_ANTG2</th>\n",
       "      <th>PLZ8_ANTG3</th>\n",
       "      <th>PLZ8_ANTG4</th>\n",
       "      <th>PLZ8_BAUMAX</th>\n",
       "      <th>PLZ8_HHZ</th>\n",
       "      <th>PLZ8_GBZ</th>\n",
       "      <th>ARBEIT</th>\n",
       "      <th>ORTSGR_KLS9</th>\n",
       "      <th>RELAT_AB</th>\n",
       "    </tr>\n",
       "  </thead>\n",
       "  <tbody>\n",
       "    <tr>\n",
       "      <th>count</th>\n",
       "      <td>891221.000000</td>\n",
       "      <td>891221.000000</td>\n",
       "      <td>891221.000000</td>\n",
       "      <td>886367.000000</td>\n",
       "      <td>891221.000000</td>\n",
       "      <td>891221.000000</td>\n",
       "      <td>891221.000000</td>\n",
       "      <td>891221.000000</td>\n",
       "      <td>891221.000000</td>\n",
       "      <td>891221.000000</td>\n",
       "      <td>...</td>\n",
       "      <td>774706.000000</td>\n",
       "      <td>774706.000000</td>\n",
       "      <td>774706.000000</td>\n",
       "      <td>774706.000000</td>\n",
       "      <td>774706.000000</td>\n",
       "      <td>774706.000000</td>\n",
       "      <td>774706.000000</td>\n",
       "      <td>794005.000000</td>\n",
       "      <td>794005.000000</td>\n",
       "      <td>794005.00000</td>\n",
       "    </tr>\n",
       "    <tr>\n",
       "      <th>mean</th>\n",
       "      <td>-0.358435</td>\n",
       "      <td>2.777398</td>\n",
       "      <td>1.522098</td>\n",
       "      <td>3.632838</td>\n",
       "      <td>3.074528</td>\n",
       "      <td>2.821039</td>\n",
       "      <td>3.401106</td>\n",
       "      <td>3.033328</td>\n",
       "      <td>2.874167</td>\n",
       "      <td>3.075121</td>\n",
       "      <td>...</td>\n",
       "      <td>2.253330</td>\n",
       "      <td>2.801858</td>\n",
       "      <td>1.595426</td>\n",
       "      <td>0.699166</td>\n",
       "      <td>1.943913</td>\n",
       "      <td>3.612821</td>\n",
       "      <td>3.381087</td>\n",
       "      <td>3.167854</td>\n",
       "      <td>5.293002</td>\n",
       "      <td>3.07222</td>\n",
       "    </tr>\n",
       "    <tr>\n",
       "      <th>std</th>\n",
       "      <td>1.198724</td>\n",
       "      <td>1.068775</td>\n",
       "      <td>0.499512</td>\n",
       "      <td>1.595021</td>\n",
       "      <td>1.321055</td>\n",
       "      <td>1.464749</td>\n",
       "      <td>1.322134</td>\n",
       "      <td>1.529603</td>\n",
       "      <td>1.486731</td>\n",
       "      <td>1.353248</td>\n",
       "      <td>...</td>\n",
       "      <td>0.972008</td>\n",
       "      <td>0.920309</td>\n",
       "      <td>0.986736</td>\n",
       "      <td>0.727137</td>\n",
       "      <td>1.459654</td>\n",
       "      <td>0.973967</td>\n",
       "      <td>1.111598</td>\n",
       "      <td>1.002376</td>\n",
       "      <td>2.303739</td>\n",
       "      <td>1.36298</td>\n",
       "    </tr>\n",
       "    <tr>\n",
       "      <th>min</th>\n",
       "      <td>-1.000000</td>\n",
       "      <td>1.000000</td>\n",
       "      <td>1.000000</td>\n",
       "      <td>1.000000</td>\n",
       "      <td>1.000000</td>\n",
       "      <td>1.000000</td>\n",
       "      <td>1.000000</td>\n",
       "      <td>1.000000</td>\n",
       "      <td>1.000000</td>\n",
       "      <td>1.000000</td>\n",
       "      <td>...</td>\n",
       "      <td>0.000000</td>\n",
       "      <td>0.000000</td>\n",
       "      <td>0.000000</td>\n",
       "      <td>0.000000</td>\n",
       "      <td>1.000000</td>\n",
       "      <td>1.000000</td>\n",
       "      <td>1.000000</td>\n",
       "      <td>1.000000</td>\n",
       "      <td>0.000000</td>\n",
       "      <td>1.00000</td>\n",
       "    </tr>\n",
       "    <tr>\n",
       "      <th>25%</th>\n",
       "      <td>-1.000000</td>\n",
       "      <td>2.000000</td>\n",
       "      <td>1.000000</td>\n",
       "      <td>2.000000</td>\n",
       "      <td>2.000000</td>\n",
       "      <td>1.000000</td>\n",
       "      <td>3.000000</td>\n",
       "      <td>2.000000</td>\n",
       "      <td>2.000000</td>\n",
       "      <td>2.000000</td>\n",
       "      <td>...</td>\n",
       "      <td>1.000000</td>\n",
       "      <td>2.000000</td>\n",
       "      <td>1.000000</td>\n",
       "      <td>0.000000</td>\n",
       "      <td>1.000000</td>\n",
       "      <td>3.000000</td>\n",
       "      <td>3.000000</td>\n",
       "      <td>3.000000</td>\n",
       "      <td>4.000000</td>\n",
       "      <td>2.00000</td>\n",
       "    </tr>\n",
       "    <tr>\n",
       "      <th>50%</th>\n",
       "      <td>-1.000000</td>\n",
       "      <td>3.000000</td>\n",
       "      <td>2.000000</td>\n",
       "      <td>4.000000</td>\n",
       "      <td>3.000000</td>\n",
       "      <td>3.000000</td>\n",
       "      <td>3.000000</td>\n",
       "      <td>3.000000</td>\n",
       "      <td>3.000000</td>\n",
       "      <td>3.000000</td>\n",
       "      <td>...</td>\n",
       "      <td>2.000000</td>\n",
       "      <td>3.000000</td>\n",
       "      <td>2.000000</td>\n",
       "      <td>1.000000</td>\n",
       "      <td>1.000000</td>\n",
       "      <td>4.000000</td>\n",
       "      <td>3.000000</td>\n",
       "      <td>3.000000</td>\n",
       "      <td>5.000000</td>\n",
       "      <td>3.00000</td>\n",
       "    </tr>\n",
       "    <tr>\n",
       "      <th>75%</th>\n",
       "      <td>-1.000000</td>\n",
       "      <td>4.000000</td>\n",
       "      <td>2.000000</td>\n",
       "      <td>5.000000</td>\n",
       "      <td>4.000000</td>\n",
       "      <td>4.000000</td>\n",
       "      <td>5.000000</td>\n",
       "      <td>5.000000</td>\n",
       "      <td>4.000000</td>\n",
       "      <td>4.000000</td>\n",
       "      <td>...</td>\n",
       "      <td>3.000000</td>\n",
       "      <td>3.000000</td>\n",
       "      <td>2.000000</td>\n",
       "      <td>1.000000</td>\n",
       "      <td>3.000000</td>\n",
       "      <td>4.000000</td>\n",
       "      <td>4.000000</td>\n",
       "      <td>4.000000</td>\n",
       "      <td>7.000000</td>\n",
       "      <td>4.00000</td>\n",
       "    </tr>\n",
       "    <tr>\n",
       "      <th>max</th>\n",
       "      <td>3.000000</td>\n",
       "      <td>9.000000</td>\n",
       "      <td>2.000000</td>\n",
       "      <td>6.000000</td>\n",
       "      <td>5.000000</td>\n",
       "      <td>5.000000</td>\n",
       "      <td>5.000000</td>\n",
       "      <td>5.000000</td>\n",
       "      <td>5.000000</td>\n",
       "      <td>5.000000</td>\n",
       "      <td>...</td>\n",
       "      <td>4.000000</td>\n",
       "      <td>4.000000</td>\n",
       "      <td>3.000000</td>\n",
       "      <td>2.000000</td>\n",
       "      <td>5.000000</td>\n",
       "      <td>5.000000</td>\n",
       "      <td>5.000000</td>\n",
       "      <td>9.000000</td>\n",
       "      <td>9.000000</td>\n",
       "      <td>9.00000</td>\n",
       "    </tr>\n",
       "  </tbody>\n",
       "</table>\n",
       "<p>8 rows × 81 columns</p>\n",
       "</div>"
      ],
      "text/plain": [
       "            AGER_TYP  ALTERSKATEGORIE_GROB      ANREDE_KZ  CJT_GESAMTTYP  \\\n",
       "count  891221.000000         891221.000000  891221.000000  886367.000000   \n",
       "mean       -0.358435              2.777398       1.522098       3.632838   \n",
       "std         1.198724              1.068775       0.499512       1.595021   \n",
       "min        -1.000000              1.000000       1.000000       1.000000   \n",
       "25%        -1.000000              2.000000       1.000000       2.000000   \n",
       "50%        -1.000000              3.000000       2.000000       4.000000   \n",
       "75%        -1.000000              4.000000       2.000000       5.000000   \n",
       "max         3.000000              9.000000       2.000000       6.000000   \n",
       "\n",
       "       FINANZ_MINIMALIST  FINANZ_SPARER  FINANZ_VORSORGER  FINANZ_ANLEGER  \\\n",
       "count      891221.000000  891221.000000     891221.000000   891221.000000   \n",
       "mean            3.074528       2.821039          3.401106        3.033328   \n",
       "std             1.321055       1.464749          1.322134        1.529603   \n",
       "min             1.000000       1.000000          1.000000        1.000000   \n",
       "25%             2.000000       1.000000          3.000000        2.000000   \n",
       "50%             3.000000       3.000000          3.000000        3.000000   \n",
       "75%             4.000000       4.000000          5.000000        5.000000   \n",
       "max             5.000000       5.000000          5.000000        5.000000   \n",
       "\n",
       "       FINANZ_UNAUFFAELLIGER  FINANZ_HAUSBAUER      ...          PLZ8_ANTG1  \\\n",
       "count          891221.000000     891221.000000      ...       774706.000000   \n",
       "mean                2.874167          3.075121      ...            2.253330   \n",
       "std                 1.486731          1.353248      ...            0.972008   \n",
       "min                 1.000000          1.000000      ...            0.000000   \n",
       "25%                 2.000000          2.000000      ...            1.000000   \n",
       "50%                 3.000000          3.000000      ...            2.000000   \n",
       "75%                 4.000000          4.000000      ...            3.000000   \n",
       "max                 5.000000          5.000000      ...            4.000000   \n",
       "\n",
       "          PLZ8_ANTG2     PLZ8_ANTG3     PLZ8_ANTG4    PLZ8_BAUMAX  \\\n",
       "count  774706.000000  774706.000000  774706.000000  774706.000000   \n",
       "mean        2.801858       1.595426       0.699166       1.943913   \n",
       "std         0.920309       0.986736       0.727137       1.459654   \n",
       "min         0.000000       0.000000       0.000000       1.000000   \n",
       "25%         2.000000       1.000000       0.000000       1.000000   \n",
       "50%         3.000000       2.000000       1.000000       1.000000   \n",
       "75%         3.000000       2.000000       1.000000       3.000000   \n",
       "max         4.000000       3.000000       2.000000       5.000000   \n",
       "\n",
       "            PLZ8_HHZ       PLZ8_GBZ         ARBEIT    ORTSGR_KLS9  \\\n",
       "count  774706.000000  774706.000000  794005.000000  794005.000000   \n",
       "mean        3.612821       3.381087       3.167854       5.293002   \n",
       "std         0.973967       1.111598       1.002376       2.303739   \n",
       "min         1.000000       1.000000       1.000000       0.000000   \n",
       "25%         3.000000       3.000000       3.000000       4.000000   \n",
       "50%         4.000000       3.000000       3.000000       5.000000   \n",
       "75%         4.000000       4.000000       4.000000       7.000000   \n",
       "max         5.000000       5.000000       9.000000       9.000000   \n",
       "\n",
       "           RELAT_AB  \n",
       "count  794005.00000  \n",
       "mean        3.07222  \n",
       "std         1.36298  \n",
       "min         1.00000  \n",
       "25%         2.00000  \n",
       "50%         3.00000  \n",
       "75%         4.00000  \n",
       "max         9.00000  \n",
       "\n",
       "[8 rows x 81 columns]"
      ]
     },
     "execution_count": 452,
     "metadata": {},
     "output_type": "execute_result"
    }
   ],
   "source": [
    "azdias.describe()"
   ]
  },
  {
   "cell_type": "code",
   "execution_count": 453,
   "metadata": {},
   "outputs": [
    {
     "name": "stdout",
     "output_type": "stream",
     "text": [
      "<class 'pandas.core.frame.DataFrame'>\n",
      "RangeIndex: 85 entries, 0 to 84\n",
      "Data columns (total 4 columns):\n",
      "attribute             85 non-null object\n",
      "information_level     85 non-null object\n",
      "type                  85 non-null object\n",
      "missing_or_unknown    85 non-null object\n",
      "dtypes: object(4)\n",
      "memory usage: 2.7+ KB\n"
     ]
    }
   ],
   "source": [
    "feat_info.info()"
   ]
  },
  {
   "cell_type": "code",
   "execution_count": 454,
   "metadata": {},
   "outputs": [
    {
     "data": {
      "text/html": [
       "<div>\n",
       "<style scoped>\n",
       "    .dataframe tbody tr th:only-of-type {\n",
       "        vertical-align: middle;\n",
       "    }\n",
       "\n",
       "    .dataframe tbody tr th {\n",
       "        vertical-align: top;\n",
       "    }\n",
       "\n",
       "    .dataframe thead th {\n",
       "        text-align: right;\n",
       "    }\n",
       "</style>\n",
       "<table border=\"1\" class=\"dataframe\">\n",
       "  <thead>\n",
       "    <tr style=\"text-align: right;\">\n",
       "      <th></th>\n",
       "      <th>attribute</th>\n",
       "      <th>information_level</th>\n",
       "      <th>type</th>\n",
       "      <th>missing_or_unknown</th>\n",
       "    </tr>\n",
       "  </thead>\n",
       "  <tbody>\n",
       "    <tr>\n",
       "      <th>0</th>\n",
       "      <td>AGER_TYP</td>\n",
       "      <td>person</td>\n",
       "      <td>categorical</td>\n",
       "      <td>[-1,0]</td>\n",
       "    </tr>\n",
       "    <tr>\n",
       "      <th>1</th>\n",
       "      <td>ALTERSKATEGORIE_GROB</td>\n",
       "      <td>person</td>\n",
       "      <td>ordinal</td>\n",
       "      <td>[-1,0,9]</td>\n",
       "    </tr>\n",
       "    <tr>\n",
       "      <th>2</th>\n",
       "      <td>ANREDE_KZ</td>\n",
       "      <td>person</td>\n",
       "      <td>categorical</td>\n",
       "      <td>[-1,0]</td>\n",
       "    </tr>\n",
       "    <tr>\n",
       "      <th>3</th>\n",
       "      <td>CJT_GESAMTTYP</td>\n",
       "      <td>person</td>\n",
       "      <td>categorical</td>\n",
       "      <td>[0]</td>\n",
       "    </tr>\n",
       "    <tr>\n",
       "      <th>4</th>\n",
       "      <td>FINANZ_MINIMALIST</td>\n",
       "      <td>person</td>\n",
       "      <td>ordinal</td>\n",
       "      <td>[-1]</td>\n",
       "    </tr>\n",
       "  </tbody>\n",
       "</table>\n",
       "</div>"
      ],
      "text/plain": [
       "              attribute information_level         type missing_or_unknown\n",
       "0              AGER_TYP            person  categorical             [-1,0]\n",
       "1  ALTERSKATEGORIE_GROB            person      ordinal           [-1,0,9]\n",
       "2             ANREDE_KZ            person  categorical             [-1,0]\n",
       "3         CJT_GESAMTTYP            person  categorical                [0]\n",
       "4     FINANZ_MINIMALIST            person      ordinal               [-1]"
      ]
     },
     "execution_count": 454,
     "metadata": {},
     "output_type": "execute_result"
    }
   ],
   "source": [
    "feat_info.head()"
   ]
  },
  {
   "cell_type": "markdown",
   "metadata": {},
   "source": [
    "> **Tip**: Add additional cells to keep everything in reasonably-sized chunks! Keyboard shortcut `esc --> a` (press escape to enter command mode, then press the 'A' key) adds a new cell before the active cell, and `esc --> b` adds a new cell after the active cell. If you need to convert an active cell to a markdown cell, use `esc --> m` and to convert to a code cell, use `esc --> y`. \n",
    "\n",
    "## Step 1: Preprocessing\n",
    "\n",
    "### Step 1.1: Assess Missing Data\n",
    "\n",
    "The feature summary file contains a summary of properties for each demographics data column. You will use this file to help you make cleaning decisions during this stage of the project. First of all, you should assess the demographics data in terms of missing data. Pay attention to the following points as you perform your analysis, and take notes on what you observe. Make sure that you fill in the **Discussion** cell with your findings and decisions at the end of each step that has one!\n",
    "\n",
    "#### Step 1.1.1: Convert Missing Value Codes to NaNs\n",
    "The fourth column of the feature attributes summary (loaded in above as `feat_info`) documents the codes from the data dictionary that indicate missing or unknown data. While the file encodes this as a list (e.g. `[-1,0]`), this will get read in as a string object. You'll need to do a little bit of parsing to make use of it to identify and clean the data. Convert data that matches a 'missing' or 'unknown' value code into a numpy NaN value. You might want to see how much data takes on a 'missing' or 'unknown' code, and how much data is naturally missing, as a point of interest.\n",
    "\n",
    "**As one more reminder, you are encouraged to add additional cells to break up your analysis into manageable chunks.**"
   ]
  },
  {
   "cell_type": "code",
   "execution_count": 455,
   "metadata": {},
   "outputs": [
    {
     "data": {
      "text/plain": [
       "'\\nfor cols in range(feat_info.shape[0]):\\n    #for each column index\\n    azdias.iloc[:,cols] = azdias.iloc[:,cols].map(lambda x: np.nan if str(x) in feat_info.iloc[cols,3] else x)\\n    #replace values in the azdias each column, transform each value to a string in azdias and if the value match any in the string in feat_info then replace with nan else leave as it is\\n'"
      ]
     },
     "execution_count": 455,
     "metadata": {},
     "output_type": "execute_result"
    }
   ],
   "source": [
    "# Identify missing or unknown data values and convert them to NaNs.\n",
    "\"\"\"\n",
    "for cols in range(feat_info.shape[0]):\n",
    "    #for each column index\n",
    "    azdias.iloc[:,cols] = azdias.iloc[:,cols].map(lambda x: np.nan if str(x) in feat_info.iloc[cols,3] else x)\n",
    "    #replace values in the azdias each column, transform each value to a string in azdias and if the value match any in the string in feat_info then replace with nan else leave as it is\n",
    "\"\"\"    \n",
    "#this process runs a long time about 10 mins"
   ]
  },
  {
   "cell_type": "code",
   "execution_count": 456,
   "metadata": {},
   "outputs": [],
   "source": [
    "#save the new dataset to pickle\n",
    "#azdias.to_pickle(\"./azdias.pkl\")\n",
    "\n",
    "azdias_unpick = pd.read_pickle(\"./azdias.pkl\")"
   ]
  },
  {
   "cell_type": "markdown",
   "metadata": {},
   "source": [
    "#### Step 1.1.2: Assess Missing Data in Each Column\n",
    "\n",
    "How much missing data is present in each column? There are a few columns that are outliers in terms of the proportion of values that are missing. You will want to use matplotlib's [`hist()`](https://matplotlib.org/api/_as_gen/matplotlib.pyplot.hist.html) function to visualize the distribution of missing value counts to find these columns. Identify and document these columns. While some of these columns might have justifications for keeping or re-encoding the data, for this project you should just remove them from the dataframe. (Feel free to make remarks about these outlier columns in the discussion, however!)\n",
    "\n",
    "For the remaining features, are there any patterns in which columns have, or share, missing data?"
   ]
  },
  {
   "cell_type": "code",
   "execution_count": 457,
   "metadata": {},
   "outputs": [
    {
     "data": {
      "image/png": "[encoded data removed]",
      "text/plain": [
       "<matplotlib.figure.Figure at 0x1a3f4040f0>"
      ]
     },
     "metadata": {},
     "output_type": "display_data"
    }
   ],
   "source": [
    "# Perform an assessment of how much missing data there is in each column of the\n",
    "# dataset.\n",
    "# Total missing values for each feature only counting NULL\n",
    "#azdias.isnull().sum()\n",
    "azdias_unpick.isnull().sum().sort_values().plot.barh(figsize=(20,28),fontsize=13,color='tomato');\n"
   ]
  },
  {
   "cell_type": "code",
   "execution_count": 458,
   "metadata": {},
   "outputs": [
    {
     "data": {
      "text/plain": [
       "Text(0.5,0,'% of Missing Values')"
      ]
     },
     "execution_count": 458,
     "metadata": {},
     "output_type": "execute_result"
    },
    {
     "data": {
      "image/png": "[encoded data removed]",
      "text/plain": [
       "<matplotlib.figure.Figure at 0x1a1d042b70>"
      ]
     },
     "metadata": {},
     "output_type": "display_data"
    }
   ],
   "source": [
    "# Investigate patterns in the amount of missing data in each column.\n",
    "#count number of columns by % of missing value\n",
    "percent_missing = (azdias_unpick.isnull().sum()/len(azdias_unpick)*100)\n",
    "\n",
    "plt.hist(percent_missing, bins=100,color=\"orange\")\n",
    "plt.axvline(80, color='k', linestyle='dashed', linewidth=1)\n",
    "plt.ylabel('# of Columns')\n",
    "plt.xlabel('% of Missing Values')\n"
   ]
  },
  {
   "cell_type": "code",
   "execution_count": 459,
   "metadata": {},
   "outputs": [],
   "source": [
    "#percent_missing = percent_missing.tolist()\n",
    "\n",
    "missing_value_df = feat_info.filter(['attribute','information_level'], axis=1)\n",
    "missing_value_df['percent_missing'] = percent_missing.tolist()\n",
    "\n",
    "missing_value_df.sort_values('percent_missing',inplace=True,ascending=False)"
   ]
  },
  {
   "cell_type": "code",
   "execution_count": 460,
   "metadata": {},
   "outputs": [],
   "source": [
    "# Remove the outlier columns from the dataset. (You'll perform other data\n",
    "# engineering tasks such as re-encoding and imputation later.)"
   ]
  },
  {
   "cell_type": "markdown",
   "metadata": {},
   "source": [
    "**Based on the above % missing value bar plot, we saw that majority of columns had missing value of less than 20%, and there are 2 columns that have 80%+ of missing value, and several other columns have missing value between 20% to 80%. \n",
    "We will look at those columns' definition that have over 20% of missing value, and see if it makes sense to keep them for later.**"
   ]
  },
  {
   "cell_type": "code",
   "execution_count": 461,
   "metadata": {},
   "outputs": [],
   "source": [
    "# Find the name of columns with more than 20% missing values\n",
    "drop_20 = missing_value_df[(missing_value_df.percent_missing > 20.0)]['attribute'].tolist() \n"
   ]
  },
  {
   "cell_type": "markdown",
   "metadata": {},
   "source": [
    "**Removing Columns that Have Lots of Missing Values**"
   ]
  },
  {
   "cell_type": "code",
   "execution_count": 462,
   "metadata": {},
   "outputs": [
    {
     "data": {
      "text/plain": [
       "['NATIONALITAET_KZ',\n",
       " 'AGER_TYP',\n",
       " 'KK_KUNDENTYP',\n",
       " 'VERS_TYP',\n",
       " 'ANREDE_KZ',\n",
       " 'GEBURTSJAHR',\n",
       " 'SHOPPER_TYP',\n",
       " 'HEALTH_TYP',\n",
       " 'FINANZ_SPARER',\n",
       " 'FINANZ_UNAUFFAELLIGER',\n",
       " 'FINANZ_ANLEGER',\n",
       " 'FINANZTYP']"
      ]
     },
     "execution_count": 462,
     "metadata": {},
     "output_type": "execute_result"
    }
   ],
   "source": [
    "drop_20 #remove'KK_KUNDENTYP'\n"
   ]
  },
  {
   "cell_type": "code",
   "execution_count": 463,
   "metadata": {},
   "outputs": [],
   "source": [
    "#drop columns\n",
    "azdias_unpick.drop(drop_20, axis=1, inplace=True)\n",
    "#drop attributes \n",
    "feat_info_c =feat_info[~feat_info['attribute'].isin(drop_20)]"
   ]
  },
  {
   "cell_type": "code",
   "execution_count": 464,
   "metadata": {},
   "outputs": [
    {
     "data": {
      "text/plain": [
       "73"
      ]
     },
     "execution_count": 464,
     "metadata": {},
     "output_type": "execute_result"
    }
   ],
   "source": [
    "len(azdias_unpick.columns)"
   ]
  },
  {
   "cell_type": "markdown",
   "metadata": {},
   "source": [
    "#### Discussion 1.1.2: Assess Missing Data in Each Column\n",
    "\n",
    "**2 main ideas of removing columns with large amount of missing vlaues are:**\n",
    "1. Too few information we can retrieve from that column, which becomes not helpful to drive any insights \n",
    "2. Removed columns do not affect model's accuracy or influence our decision later on; that is, we are not removing columns with very uesful information but with large amount of them were missing.\n",
    "\n",
    "**Removing Columns that Have Lots of Missing Values & Why?**\n",
    "\n",
    "- Columns that have missing vlaue over 20% were removed and they are mainly person-level attributes and one is household level attribute.\n",
    "- Columns that were removed:\n",
    " 'NATIONALITAET_KZ',\n",
    " 'AGER_TYP',\n",
    " 'KK_KUNDENTYP',\n",
    " 'VERS_TYP',\n",
    " 'ANREDE_KZ',\n",
    " 'GEBURTSJAHR',\n",
    " 'SHOPPER_TYP',\n",
    " 'HEALTH_TYP',\n",
    " 'FINANZ_SPARER',\n",
    " 'FINANZ_UNAUFFAELLIGER',\n",
    " 'FINANZ_ANLEGER',\n",
    " 'FINANZTYP'\n",
    " \n",
    "- Several columns (such as 'FINANZ_SPARE', 'FINANZ_UNAUFFAELLIGER') are about Financial Typology for each customer, they all have missing value of abot 20-30%, but not all Financial Typology related columns have missing value of 20%+ that were removed. The columns we are keeping may be able to help us to provide similar information from those were removed.\n",
    "- Some other person-level attributes were removed, such as 'NATIONALITAET_KZ', 'AGER_TYP' and etc., were about a person's nationality, age, health type, shopper type and so on. Columns with over 50%+ missing value may be hard for me to conduct imputation since we don't have 'accurate' data to support the imputation, and some columns will not be very helpful for us to get to our goal which is getting customers who'd likely to response to a marketing campaign.\n",
    "- 'KK_KUNDENTYP' is the only household level data that had missing value over 65%, which is consumer pattern over past 12 months. However, this is general population in German's consumer pattern, which may not be a good indicator of how well they will react to a specific marketing campaign from this mail-orders sales company, and also with large amount of data is missing, it will be hard to make any imputation as well."
   ]
  },
  {
   "cell_type": "code",
   "execution_count": 465,
   "metadata": {},
   "outputs": [
    {
     "data": {
      "text/html": [
       "<div>\n",
       "<style scoped>\n",
       "    .dataframe tbody tr th:only-of-type {\n",
       "        vertical-align: middle;\n",
       "    }\n",
       "\n",
       "    .dataframe tbody tr th {\n",
       "        vertical-align: top;\n",
       "    }\n",
       "\n",
       "    .dataframe thead th {\n",
       "        text-align: right;\n",
       "    }\n",
       "</style>\n",
       "<table border=\"1\" class=\"dataframe\">\n",
       "  <thead>\n",
       "    <tr style=\"text-align: right;\">\n",
       "      <th></th>\n",
       "      <th>attribute</th>\n",
       "      <th>information_level</th>\n",
       "      <th>percent_missing</th>\n",
       "    </tr>\n",
       "  </thead>\n",
       "  <tbody>\n",
       "    <tr>\n",
       "      <th>21</th>\n",
       "      <td>NATIONALITAET_KZ</td>\n",
       "      <td>person</td>\n",
       "      <td>88.911729</td>\n",
       "    </tr>\n",
       "    <tr>\n",
       "      <th>0</th>\n",
       "      <td>AGER_TYP</td>\n",
       "      <td>person</td>\n",
       "      <td>85.909668</td>\n",
       "    </tr>\n",
       "    <tr>\n",
       "      <th>47</th>\n",
       "      <td>KK_KUNDENTYP</td>\n",
       "      <td>household</td>\n",
       "      <td>65.596749</td>\n",
       "    </tr>\n",
       "    <tr>\n",
       "      <th>41</th>\n",
       "      <td>VERS_TYP</td>\n",
       "      <td>person</td>\n",
       "      <td>55.261153</td>\n",
       "    </tr>\n",
       "    <tr>\n",
       "      <th>2</th>\n",
       "      <td>ANREDE_KZ</td>\n",
       "      <td>person</td>\n",
       "      <td>47.790167</td>\n",
       "    </tr>\n",
       "    <tr>\n",
       "      <th>11</th>\n",
       "      <td>GEBURTSJAHR</td>\n",
       "      <td>person</td>\n",
       "      <td>44.020282</td>\n",
       "    </tr>\n",
       "    <tr>\n",
       "      <th>38</th>\n",
       "      <td>SHOPPER_TYP</td>\n",
       "      <td>person</td>\n",
       "      <td>41.062430</td>\n",
       "    </tr>\n",
       "    <tr>\n",
       "      <th>14</th>\n",
       "      <td>HEALTH_TYP</td>\n",
       "      <td>person</td>\n",
       "      <td>30.697661</td>\n",
       "    </tr>\n",
       "    <tr>\n",
       "      <th>5</th>\n",
       "      <td>FINANZ_SPARER</td>\n",
       "      <td>person</td>\n",
       "      <td>28.075303</td>\n",
       "    </tr>\n",
       "    <tr>\n",
       "      <th>8</th>\n",
       "      <td>FINANZ_UNAUFFAELLIGER</td>\n",
       "      <td>person</td>\n",
       "      <td>24.752222</td>\n",
       "    </tr>\n",
       "    <tr>\n",
       "      <th>7</th>\n",
       "      <td>FINANZ_ANLEGER</td>\n",
       "      <td>person</td>\n",
       "      <td>23.654290</td>\n",
       "    </tr>\n",
       "    <tr>\n",
       "      <th>10</th>\n",
       "      <td>FINANZTYP</td>\n",
       "      <td>person</td>\n",
       "      <td>22.393099</td>\n",
       "    </tr>\n",
       "  </tbody>\n",
       "</table>\n",
       "</div>"
      ],
      "text/plain": [
       "                attribute information_level  percent_missing\n",
       "21       NATIONALITAET_KZ            person        88.911729\n",
       "0                AGER_TYP            person        85.909668\n",
       "47           KK_KUNDENTYP         household        65.596749\n",
       "41               VERS_TYP            person        55.261153\n",
       "2               ANREDE_KZ            person        47.790167\n",
       "11            GEBURTSJAHR            person        44.020282\n",
       "38            SHOPPER_TYP            person        41.062430\n",
       "14             HEALTH_TYP            person        30.697661\n",
       "5           FINANZ_SPARER            person        28.075303\n",
       "8   FINANZ_UNAUFFAELLIGER            person        24.752222\n",
       "7          FINANZ_ANLEGER            person        23.654290\n",
       "10              FINANZTYP            person        22.393099"
      ]
     },
     "execution_count": 465,
     "metadata": {},
     "output_type": "execute_result"
    }
   ],
   "source": [
    "missing_value_df[(missing_value_df.percent_missing > 20.0)]"
   ]
  },
  {
   "cell_type": "code",
   "execution_count": 466,
   "metadata": {},
   "outputs": [
    {
     "data": {
      "text/plain": [
       "array(['person', 'household'], dtype=object)"
      ]
     },
     "execution_count": 466,
     "metadata": {},
     "output_type": "execute_result"
    }
   ],
   "source": [
    "missing_value_df[(missing_value_df.percent_missing > 20.0)].information_level.unique()"
   ]
  },
  {
   "cell_type": "code",
   "execution_count": 467,
   "metadata": {},
   "outputs": [
    {
     "data": {
      "image/png": "[encoded data removed]",
      "text/plain": [
       "<matplotlib.figure.Figure at 0x1a1ee7cef0>"
      ]
     },
     "metadata": {},
     "output_type": "display_data"
    }
   ],
   "source": [
    "plt.figure(figsize=(10,4))\n",
    "#for i, level in enumerate(missing_value_df[(missing_value_df.percent_missing > 20.0)].information_level.unique()):\n",
    "#    plt.figure(i)\n",
    "#    sns.barplot(x='attribute',y='percent_missing',data=missing_value_df[(missing_value_df['information_level'] == level) & (missing_value_df['percent_missing'] > 20.0)])\n",
    "\n",
    "sns.barplot(x='percent_missing',y='attribute',data=missing_value_df[(missing_value_df['information_level'] == 'person') & (missing_value_df['percent_missing'] > 20.0)])\n",
    "plt.tight_layout()  \n",
    "plt.show()"
   ]
  },
  {
   "cell_type": "markdown",
   "metadata": {},
   "source": [
    "#### Step 1.1.3: Assess Missing Data in Each Row\n",
    "\n",
    "Now, you'll perform a similar assessment for the rows of the dataset. How much data is missing in each row? As with the columns, you should see some groups of points that have a very different numbers of missing values. Divide the data into two subsets: one for data points that are above some threshold for missing values, and a second subset for points below that threshold.\n",
    "\n",
    "In order to know what to do with the outlier rows, we should see if the distribution of data values on columns that are not missing data (or are missing very little data) are similar or different between the two groups. Select at least five of these columns and compare the distribution of values.\n",
    "- You can use seaborn's [`countplot()`](https://seaborn.pydata.org/generated/seaborn.countplot.html) function to create a bar chart of code frequencies and matplotlib's [`subplot()`](https://matplotlib.org/api/_as_gen/matplotlib.pyplot.subplot.html) function to put bar charts for the two subplots side by side.\n",
    "- To reduce repeated code, you might want to write a function that can perform this comparison, taking as one of its arguments a column to be compared.\n",
    "\n",
    "Depending on what you observe in your comparison, this will have implications on how you approach your conclusions later in the analysis. If the distributions of non-missing features look similar between the data with many missing values and the data with few or no missing values, then we could argue that simply dropping those points from the analysis won't present a major issue. On the other hand, if the data with many missing values looks very different from the data with few or no missing values, then we should make a note on those data as special. We'll revisit these data later on. **Either way, you should continue your analysis for now using just the subset of the data with few or no missing values.**"
   ]
  },
  {
   "cell_type": "code",
   "execution_count": 468,
   "metadata": {},
   "outputs": [
    {
     "data": {
      "text/plain": [
       "Text(0.5,1,'Missing Value Counts in Rows')"
      ]
     },
     "execution_count": 468,
     "metadata": {},
     "output_type": "execute_result"
    },
    {
     "data": {
      "image/png": "[encoded data removed]",
      "text/plain": [
       "<matplotlib.figure.Figure at 0x1a1f7c7080>"
      ]
     },
     "metadata": {},
     "output_type": "display_data"
    }
   ],
   "source": [
    "# How much data is missing in each row of the dataset?\n",
    "percent_missing_row = azdias_unpick.isnull().sum(axis=1)\n",
    "\n",
    "plt.hist(percent_missing_row, bins=100,color=\"salmon\")\n",
    "plt.axvline(2, color='k', linestyle='dashed', linewidth=1) #at 50%\n",
    "plt.ylabel('# of Rows')\n",
    "plt.xlabel('# Missing Values')\n",
    "plt.title(\"Missing Value Counts in Rows\")\n",
    "\n"
   ]
  },
  {
   "cell_type": "code",
   "execution_count": 469,
   "metadata": {},
   "outputs": [
    {
     "data": {
      "text/plain": [
       "count    891221.000000\n",
       "mean          7.014282\n",
       "std          12.346019\n",
       "min           0.000000\n",
       "25%           1.000000\n",
       "50%           2.000000\n",
       "75%           4.000000\n",
       "max          50.000000\n",
       "dtype: float64"
      ]
     },
     "execution_count": 469,
     "metadata": {},
     "output_type": "execute_result"
    }
   ],
   "source": [
    "percent_missing_row.describe()"
   ]
  },
  {
   "cell_type": "code",
   "execution_count": 470,
   "metadata": {},
   "outputs": [],
   "source": [
    "# Write code to divide the data into two subsets based on the number of missing\n",
    "# values in each row.\n",
    "Less_Missing = azdias_unpick[azdias_unpick.isnull().sum(axis=1) <= 2].reset_index(drop=True)\n",
    "More_Missing = azdias_unpick[azdias_unpick.isnull().sum(axis=1) > 2].reset_index(drop=True)"
   ]
  },
  {
   "cell_type": "code",
   "execution_count": 471,
   "metadata": {},
   "outputs": [
    {
     "name": "stdout",
     "output_type": "stream",
     "text": [
      "459406 of rows containing fewer than 2 missing values\n",
      "431815 of rows containing more than 2 missing values\n"
     ]
    }
   ],
   "source": [
    "print(str(Less_Missing.shape[0]) + ' of rows containing fewer than 2 missing values')\n",
    "print(str(More_Missing.shape[0]) + ' of rows containing more than 2 missing values')"
   ]
  },
  {
   "cell_type": "code",
   "execution_count": 472,
   "metadata": {},
   "outputs": [
    {
     "data": {
      "text/plain": [
       "GREEN_AVANTGARDE       0.000000\n",
       "ONLINE_AFFINITAET      0.544646\n",
       "CJT_GESAMTTYP          0.544646\n",
       "GFK_URLAUBERTYP        0.544646\n",
       "LP_LEBENSPHASE_FEIN    0.544646\n",
       "dtype: float64"
      ]
     },
     "execution_count": 472,
     "metadata": {},
     "output_type": "execute_result"
    }
   ],
   "source": [
    "#percent missing after dropping 20% missing value columns\n",
    "percent_missing_2 = (azdias_unpick.isnull().sum()/len(azdias_unpick)*100)\n",
    "percent_missing_2.sort_values().head()"
   ]
  },
  {
   "cell_type": "code",
   "execution_count": 473,
   "metadata": {},
   "outputs": [
    {
     "data": {
      "text/plain": [
       "KBA05_ANTG1             14.959701\n",
       "CAMEO_DEUG_2015         15.211042\n",
       "FINANZ_MINIMALIST       15.662445\n",
       "FINANZ_HAUSBAUER        16.057072\n",
       "ALTERSKATEGORIE_GROB    16.355988\n",
       "dtype: float64"
      ]
     },
     "execution_count": 473,
     "metadata": {},
     "output_type": "execute_result"
    }
   ],
   "source": [
    "percent_missing_2.sort_values().tail()"
   ]
  },
  {
   "cell_type": "code",
   "execution_count": 474,
   "metadata": {},
   "outputs": [],
   "source": [
    "# Compare the distribution of values for at least five columns where there are\n",
    "# no or few missing values, between the two subsets.\n",
    "\n",
    "#select top 4 and last 4 columnns for comparison based on their missing value %\n",
    "cols_few_missing = ['GREEN_AVANTGARDE','ONLINE_AFFINITAET','CJT_GESAMTTYP','GFK_URLAUBERTYP']\n",
    "cols_more_missing = ['ALTERSKATEGORIE_GROB','FINANZ_HAUSBAUER','FINANZ_MINIMALIST','CAMEO_DEUG_2015']"
   ]
  },
  {
   "cell_type": "code",
   "execution_count": 475,
   "metadata": {},
   "outputs": [],
   "source": [
    "# Compare the distribution of values for at least five columns where there are\n",
    "# no or few missing values, between the two subsets.\n",
    "def plots_missing(columns):\n",
    "\n",
    "    loop_num = len(columns)\n",
    "    \n",
    "    fig, ax = plt.subplots(figsize=(20, 25), ncols= 2, nrows= loop_num, squeeze=False)\n",
    "    \n",
    "    ax[0][0].set_title(\"Many Missing Values Subset\")\n",
    "    ax[0][1].set_title(\"Few Missing Values Subset\")\n",
    "    \n",
    "    for i in range(loop_num):\n",
    "        sns.countplot(x=columns[i], data= Less_Missing,ax=ax[i][0])\n",
    "        sns.countplot(x=columns[i], data= More_Missing,ax=ax[i][1])"
   ]
  },
  {
   "cell_type": "code",
   "execution_count": 476,
   "metadata": {},
   "outputs": [
    {
     "data": {
      "image/png": "[encoded data removed]",
      "text/plain": [
       "<matplotlib.figure.Figure at 0x1a1f35b978>"
      ]
     },
     "metadata": {},
     "output_type": "display_data"
    }
   ],
   "source": [
    "plots_missing(cols_few_missing)"
   ]
  },
  {
   "cell_type": "code",
   "execution_count": 477,
   "metadata": {},
   "outputs": [
    {
     "data": {
      "image/png": "[encoded data removed]",
      "text/plain": [
       "<matplotlib.figure.Figure at 0x1a2c2ce2b0>"
      ]
     },
     "metadata": {},
     "output_type": "display_data"
    }
   ],
   "source": [
    "plots_missing(cols_more_missing)"
   ]
  },
  {
   "cell_type": "code",
   "execution_count": 478,
   "metadata": {},
   "outputs": [
    {
     "name": "stdout",
     "output_type": "stream",
     "text": [
      "Dropping 798045 rows because they contain more than 30 missing variables for each row\n"
     ]
    }
   ],
   "source": [
    "print('Dropping '+ str(azdias_unpick[azdias_unpick.isnull().sum(axis=1) <= 30].reset_index(drop=True).shape[0]) + ' rows because they contain more than 30 missing variables for each row')"
   ]
  },
  {
   "cell_type": "code",
   "execution_count": 479,
   "metadata": {},
   "outputs": [],
   "source": [
    "#for rows that have missing value more than 40% (30+), remove them \n",
    "azdias_unpick = azdias_unpick[azdias_unpick.isnull().sum(axis=1) <= 30].reset_index(drop=True)"
   ]
  },
  {
   "cell_type": "code",
   "execution_count": 480,
   "metadata": {},
   "outputs": [
    {
     "name": "stdout",
     "output_type": "stream",
     "text": [
      "Number of rows after dropping those high missing value rows: 798045\n"
     ]
    }
   ],
   "source": [
    "print('Number of rows after dropping those high missing value rows: '+ str(azdias_unpick.shape[0]))"
   ]
  },
  {
   "cell_type": "markdown",
   "metadata": {},
   "source": [
    "#### Discussion 1.1.3: Assess Missing Data in Each Row\n",
    "\n",
    "\n",
    "**Method**\n",
    "\n",
    "- I selected top 4 and bottom 4 columns based on amount of missing values in those columns, and split the data to 2 portion, one is rows with (2+) many missing values and another one is with only 2 missing vlaues in each row\n",
    "- Used bar plots to graph distributions for each variable and split by few or more missing values\n",
    "\n",
    "**Finding**\n",
    "\n",
    "- The distributions of non-missing features look different between the data with many missing values and the data with few or no missing values\n",
    "  - Except the variable that has 0 missing value, the difference in distributions between 2 subsets for each variable are quite significant, we can clearly see missing values will have a lot of impact on the data.\n",
    "  - Columns with fewer missing values shows the difference in distribution between two subsets are relatively smaller than those with more missing values \n",
    "\n",
    "**Missing Value Treatment**\n",
    "\n",
    "- There are many methods to treat missing values: SMOTE, down/up sampling, removing, imputation and so on\n",
    "- The most common and simpler one is imputation, usually missing value imputation uses mean, median, or mode, quartile but it varies case by case.\n",
    "- In this case, although we have different types of variables, based on the *Data Dictionary* all features seems all 'categorical', so in this case we will use **MODE** for missing value imputation. "
   ]
  },
  {
   "cell_type": "code",
   "execution_count": 481,
   "metadata": {},
   "outputs": [],
   "source": [
    "#impute missing values with mode of each column\n",
    "azdias_unpick.fillna(azdias_unpick.mode().iloc[0],inplace=True)"
   ]
  },
  {
   "cell_type": "code",
   "execution_count": 482,
   "metadata": {},
   "outputs": [],
   "source": [
    "#check\n",
    "#(azdias_unpick.isnull().sum()/len(azdias_unpick)*100) "
   ]
  },
  {
   "cell_type": "markdown",
   "metadata": {},
   "source": [
    "### Step 1.2: Select and Re-Encode Features\n",
    "\n",
    "Checking for missing data isn't the only way in which you can prepare a dataset for analysis. Since the unsupervised learning techniques to be used will only work on data that is encoded numerically, you need to make a few encoding changes or additional assumptions to be able to make progress. In addition, while almost all of the values in the dataset are encoded using numbers, not all of them represent numeric values. Check the third column of the feature summary (`feat_info`) for a summary of types of measurement.\n",
    "- For numeric and interval data, these features can be kept without changes.\n",
    "- Most of the variables in the dataset are ordinal in nature. While ordinal values may technically be non-linear in spacing, make the simplifying assumption that the ordinal variables can be treated as being interval in nature (that is, kept without any changes).\n",
    "- Special handling may be necessary for the remaining two variable types: categorical, and 'mixed'.\n",
    "\n",
    "In the first two parts of this sub-step, you will perform an investigation of the categorical and mixed-type features and make a decision on each of them, whether you will keep, drop, or re-encode each. Then, in the last part, you will create a new data frame with only the selected and engineered columns.\n",
    "\n",
    "Data wrangling is often the trickiest part of the data analysis process, and there's a lot of it to be done here. But stick with it: once you're done with this step, you'll be ready to get to the machine learning parts of the project!"
   ]
  },
  {
   "cell_type": "code",
   "execution_count": 483,
   "metadata": {},
   "outputs": [
    {
     "data": {
      "text/plain": [
       "ordinal        45\n",
       "categorical    14\n",
       "mixed           7\n",
       "numeric         6\n",
       "interval        1\n",
       "Name: type, dtype: int64"
      ]
     },
     "execution_count": 483,
     "metadata": {},
     "output_type": "execute_result"
    }
   ],
   "source": [
    "# How many features are there of each data type?\n",
    "feat_info_c['type'].value_counts()\n"
   ]
  },
  {
   "cell_type": "markdown",
   "metadata": {},
   "source": [
    "#### Step 1.2.1: Re-Encode Categorical Features\n",
    "\n",
    "For categorical data, you would ordinarily need to encode the levels as dummy variables. Depending on the number of categories, perform one of the following:\n",
    "- For binary (two-level) categoricals that take numeric values, you can keep them without needing to do anything.\n",
    "- There is one binary variable that takes on non-numeric values. For this one, you need to re-encode the values as numbers or create a dummy variable.\n",
    "- For multi-level categoricals (three or more values), you can choose to encode the values using multiple dummy variables (e.g. via [OneHotEncoder](http://scikit-learn.org/stable/modules/generated/sklearn.preprocessing.OneHotEncoder.html)), or (to keep things straightforward) just drop them from the analysis. As always, document your choices in the Discussion section."
   ]
  },
  {
   "cell_type": "code",
   "execution_count": 484,
   "metadata": {},
   "outputs": [],
   "source": [
    "#grabbing only categorical variables\n",
    "list_categorical = feat_info_c[feat_info_c['type'] == 'categorical']['attribute']"
   ]
  },
  {
   "cell_type": "code",
   "execution_count": 485,
   "metadata": {},
   "outputs": [
    {
     "data": {
      "text/plain": [
       "3        CJT_GESAMTTYP\n",
       "12     GFK_URLAUBERTYP\n",
       "13    GREEN_AVANTGARDE\n",
       "17     LP_FAMILIE_FEIN\n",
       "18     LP_FAMILIE_GROB\n",
       "19      LP_STATUS_FEIN\n",
       "20      LP_STATUS_GROB\n",
       "39             SOHO_KZ\n",
       "40            TITEL_KZ\n",
       "42            ZABEOTYP\n",
       "52         GEBAEUDETYP\n",
       "55         OST_WEST_KZ\n",
       "57     CAMEO_DEUG_2015\n",
       "58      CAMEO_DEU_2015\n",
       "Name: attribute, dtype: object"
      ]
     },
     "execution_count": 485,
     "metadata": {},
     "output_type": "execute_result"
    }
   ],
   "source": [
    "list_categorical\n",
    "#len(list_categorical)"
   ]
  },
  {
   "cell_type": "code",
   "execution_count": 486,
   "metadata": {},
   "outputs": [
    {
     "name": "stdout",
     "output_type": "stream",
     "text": [
      "CJT_GESAMTTYP=6\n",
      "GFK_URLAUBERTYP=12\n",
      "GREEN_AVANTGARDE=2\n",
      "LP_FAMILIE_FEIN=12\n",
      "LP_FAMILIE_GROB=6\n",
      "LP_STATUS_FEIN=10\n",
      "LP_STATUS_GROB=5\n",
      "SOHO_KZ=2\n",
      "TITEL_KZ=6\n",
      "ZABEOTYP=5\n",
      "GEBAEUDETYP=7\n",
      "OST_WEST_KZ=2\n",
      "CAMEO_DEUG_2015=8\n",
      "CAMEO_DEU_2015=44\n"
     ]
    }
   ],
   "source": [
    "# Assess categorical variables: which are binary, which are multi-level, and\n",
    "# which one needs to be re-encoded?\n",
    "\n",
    "#count number of unique levels for each categorical variables \n",
    "for k, v in azdias_unpick[list_categorical].nunique().to_dict().items():\n",
    "    print('{}={}'.format(k,v))"
   ]
  },
  {
   "cell_type": "code",
   "execution_count": 487,
   "metadata": {},
   "outputs": [
    {
     "data": {
      "text/html": [
       "<div>\n",
       "<style scoped>\n",
       "    .dataframe tbody tr th:only-of-type {\n",
       "        vertical-align: middle;\n",
       "    }\n",
       "\n",
       "    .dataframe tbody tr th {\n",
       "        vertical-align: top;\n",
       "    }\n",
       "\n",
       "    .dataframe thead th {\n",
       "        text-align: right;\n",
       "    }\n",
       "</style>\n",
       "<table border=\"1\" class=\"dataframe\">\n",
       "  <thead>\n",
       "    <tr style=\"text-align: right;\">\n",
       "      <th></th>\n",
       "      <th>CJT_GESAMTTYP</th>\n",
       "      <th>GFK_URLAUBERTYP</th>\n",
       "      <th>GREEN_AVANTGARDE</th>\n",
       "      <th>LP_FAMILIE_FEIN</th>\n",
       "      <th>LP_FAMILIE_GROB</th>\n",
       "      <th>LP_STATUS_FEIN</th>\n",
       "      <th>LP_STATUS_GROB</th>\n",
       "      <th>SOHO_KZ</th>\n",
       "      <th>TITEL_KZ</th>\n",
       "      <th>ZABEOTYP</th>\n",
       "      <th>GEBAEUDETYP</th>\n",
       "      <th>OST_WEST_KZ</th>\n",
       "      <th>CAMEO_DEUG_2015</th>\n",
       "      <th>CAMEO_DEU_2015</th>\n",
       "    </tr>\n",
       "  </thead>\n",
       "  <tbody>\n",
       "    <tr>\n",
       "      <th>0</th>\n",
       "      <td>5.0</td>\n",
       "      <td>10.0</td>\n",
       "      <td>0</td>\n",
       "      <td>5.0</td>\n",
       "      <td>3.0</td>\n",
       "      <td>2.0</td>\n",
       "      <td>1.0</td>\n",
       "      <td>1.0</td>\n",
       "      <td>0.0</td>\n",
       "      <td>5.0</td>\n",
       "      <td>8.0</td>\n",
       "      <td>W</td>\n",
       "      <td>8</td>\n",
       "      <td>8A</td>\n",
       "    </tr>\n",
       "    <tr>\n",
       "      <th>1</th>\n",
       "      <td>3.0</td>\n",
       "      <td>10.0</td>\n",
       "      <td>1</td>\n",
       "      <td>1.0</td>\n",
       "      <td>1.0</td>\n",
       "      <td>3.0</td>\n",
       "      <td>2.0</td>\n",
       "      <td>0.0</td>\n",
       "      <td>0.0</td>\n",
       "      <td>5.0</td>\n",
       "      <td>1.0</td>\n",
       "      <td>W</td>\n",
       "      <td>4</td>\n",
       "      <td>4C</td>\n",
       "    </tr>\n",
       "    <tr>\n",
       "      <th>2</th>\n",
       "      <td>2.0</td>\n",
       "      <td>1.0</td>\n",
       "      <td>0</td>\n",
       "      <td>0.0</td>\n",
       "      <td>0.0</td>\n",
       "      <td>9.0</td>\n",
       "      <td>4.0</td>\n",
       "      <td>0.0</td>\n",
       "      <td>0.0</td>\n",
       "      <td>3.0</td>\n",
       "      <td>1.0</td>\n",
       "      <td>W</td>\n",
       "      <td>2</td>\n",
       "      <td>2A</td>\n",
       "    </tr>\n",
       "    <tr>\n",
       "      <th>3</th>\n",
       "      <td>5.0</td>\n",
       "      <td>5.0</td>\n",
       "      <td>0</td>\n",
       "      <td>10.0</td>\n",
       "      <td>5.0</td>\n",
       "      <td>3.0</td>\n",
       "      <td>2.0</td>\n",
       "      <td>0.0</td>\n",
       "      <td>0.0</td>\n",
       "      <td>4.0</td>\n",
       "      <td>1.0</td>\n",
       "      <td>W</td>\n",
       "      <td>6</td>\n",
       "      <td>6B</td>\n",
       "    </tr>\n",
       "    <tr>\n",
       "      <th>4</th>\n",
       "      <td>2.0</td>\n",
       "      <td>1.0</td>\n",
       "      <td>0</td>\n",
       "      <td>1.0</td>\n",
       "      <td>1.0</td>\n",
       "      <td>4.0</td>\n",
       "      <td>2.0</td>\n",
       "      <td>0.0</td>\n",
       "      <td>0.0</td>\n",
       "      <td>4.0</td>\n",
       "      <td>1.0</td>\n",
       "      <td>W</td>\n",
       "      <td>8</td>\n",
       "      <td>8C</td>\n",
       "    </tr>\n",
       "  </tbody>\n",
       "</table>\n",
       "</div>"
      ],
      "text/plain": [
       "   CJT_GESAMTTYP  GFK_URLAUBERTYP  GREEN_AVANTGARDE  LP_FAMILIE_FEIN  \\\n",
       "0            5.0             10.0                 0              5.0   \n",
       "1            3.0             10.0                 1              1.0   \n",
       "2            2.0              1.0                 0              0.0   \n",
       "3            5.0              5.0                 0             10.0   \n",
       "4            2.0              1.0                 0              1.0   \n",
       "\n",
       "   LP_FAMILIE_GROB  LP_STATUS_FEIN  LP_STATUS_GROB  SOHO_KZ  TITEL_KZ  \\\n",
       "0              3.0             2.0             1.0      1.0       0.0   \n",
       "1              1.0             3.0             2.0      0.0       0.0   \n",
       "2              0.0             9.0             4.0      0.0       0.0   \n",
       "3              5.0             3.0             2.0      0.0       0.0   \n",
       "4              1.0             4.0             2.0      0.0       0.0   \n",
       "\n",
       "   ZABEOTYP  GEBAEUDETYP OST_WEST_KZ CAMEO_DEUG_2015 CAMEO_DEU_2015  \n",
       "0       5.0          8.0           W               8             8A  \n",
       "1       5.0          1.0           W               4             4C  \n",
       "2       3.0          1.0           W               2             2A  \n",
       "3       4.0          1.0           W               6             6B  \n",
       "4       4.0          1.0           W               8             8C  "
      ]
     },
     "execution_count": 487,
     "metadata": {},
     "output_type": "execute_result"
    }
   ],
   "source": [
    "azdias_unpick[list_categorical].head()"
   ]
  },
  {
   "cell_type": "code",
   "execution_count": 488,
   "metadata": {},
   "outputs": [
    {
     "data": {
      "text/plain": [
       "(798045, 73)"
      ]
     },
     "execution_count": 488,
     "metadata": {},
     "output_type": "execute_result"
    }
   ],
   "source": [
    "azdias_unpick.shape"
   ]
  },
  {
   "cell_type": "code",
   "execution_count": 489,
   "metadata": {},
   "outputs": [],
   "source": [
    "# Re-encode categorical variable(s) to be kept in the analysis.\n",
    "\n",
    "#re-encode OST_WEST_KZ into 1 and 0 and drop the first \n",
    "azdias_unpick = pd.get_dummies(azdias_unpick, columns=[\"OST_WEST_KZ\"], prefix=[\"OST_WEST_KZ\"],drop_first=True)\n",
    "\n"
   ]
  },
  {
   "cell_type": "code",
   "execution_count": 490,
   "metadata": {},
   "outputs": [
    {
     "data": {
      "text/plain": [
       "\"\\nfeat_info['type'].value_counts()\\n\""
      ]
     },
     "execution_count": 490,
     "metadata": {},
     "output_type": "execute_result"
    }
   ],
   "source": [
    "# Re-encode categorical variable(s) to be kept in the analysis.\n",
    "cols_remove = ['CAMEO_DEU_2015','CAMEO_DEUG_2015','GEBAEUDETYP','ZABEOTYP','TITEL_KZ','LP_STATUS_GROB','LP_STATUS_FEIN','GFK_URLAUBERTYP']\n",
    "#drop columns\n",
    "azdias_unpick.drop(cols_remove, axis=1, inplace=True)\n",
    "#drop attributes \n",
    "feat_info_c =feat_info_c[~feat_info_c['attribute'].isin(cols_remove)]\n",
    "#check\n",
    "\"\"\"\n",
    "feat_info['type'].value_counts()\n",
    "\"\"\""
   ]
  },
  {
   "cell_type": "code",
   "execution_count": 491,
   "metadata": {},
   "outputs": [],
   "source": [
    "# do one hot encoding for the rest of multi-level categorical columns\n",
    "azdias_unpick = pd.get_dummies(azdias_unpick, columns=[\"LP_FAMILIE_GROB\",\"CJT_GESAMTTYP\"], prefix=[\"LP_FAMILIE_GROB\",\"CJT_GESAMTTYP\"],drop_first=True)\n",
    "\n"
   ]
  },
  {
   "cell_type": "code",
   "execution_count": 492,
   "metadata": {},
   "outputs": [
    {
     "data": {
      "text/plain": [
       "(798045, 73)"
      ]
     },
     "execution_count": 492,
     "metadata": {},
     "output_type": "execute_result"
    }
   ],
   "source": [
    "azdias_unpick.shape"
   ]
  },
  {
   "cell_type": "code",
   "execution_count": 493,
   "metadata": {},
   "outputs": [
    {
     "data": {
      "text/html": [
       "<div>\n",
       "<style scoped>\n",
       "    .dataframe tbody tr th:only-of-type {\n",
       "        vertical-align: middle;\n",
       "    }\n",
       "\n",
       "    .dataframe tbody tr th {\n",
       "        vertical-align: top;\n",
       "    }\n",
       "\n",
       "    .dataframe thead th {\n",
       "        text-align: right;\n",
       "    }\n",
       "</style>\n",
       "<table border=\"1\" class=\"dataframe\">\n",
       "  <thead>\n",
       "    <tr style=\"text-align: right;\">\n",
       "      <th></th>\n",
       "      <th>ALTERSKATEGORIE_GROB</th>\n",
       "      <th>FINANZ_MINIMALIST</th>\n",
       "      <th>FINANZ_VORSORGER</th>\n",
       "      <th>FINANZ_HAUSBAUER</th>\n",
       "      <th>GREEN_AVANTGARDE</th>\n",
       "      <th>LP_LEBENSPHASE_FEIN</th>\n",
       "      <th>LP_LEBENSPHASE_GROB</th>\n",
       "      <th>LP_FAMILIE_FEIN</th>\n",
       "      <th>PRAEGENDE_JUGENDJAHRE</th>\n",
       "      <th>RETOURTYP_BK_S</th>\n",
       "      <th>...</th>\n",
       "      <th>LP_FAMILIE_GROB_1.0</th>\n",
       "      <th>LP_FAMILIE_GROB_2.0</th>\n",
       "      <th>LP_FAMILIE_GROB_3.0</th>\n",
       "      <th>LP_FAMILIE_GROB_4.0</th>\n",
       "      <th>LP_FAMILIE_GROB_5.0</th>\n",
       "      <th>CJT_GESAMTTYP_2.0</th>\n",
       "      <th>CJT_GESAMTTYP_3.0</th>\n",
       "      <th>CJT_GESAMTTYP_4.0</th>\n",
       "      <th>CJT_GESAMTTYP_5.0</th>\n",
       "      <th>CJT_GESAMTTYP_6.0</th>\n",
       "    </tr>\n",
       "  </thead>\n",
       "  <tbody>\n",
       "    <tr>\n",
       "      <th>0</th>\n",
       "      <td>3.0</td>\n",
       "      <td>3.0</td>\n",
       "      <td>2.0</td>\n",
       "      <td>5.0</td>\n",
       "      <td>0</td>\n",
       "      <td>21.0</td>\n",
       "      <td>6.0</td>\n",
       "      <td>5.0</td>\n",
       "      <td>14.0</td>\n",
       "      <td>1.0</td>\n",
       "      <td>...</td>\n",
       "      <td>0</td>\n",
       "      <td>0</td>\n",
       "      <td>1</td>\n",
       "      <td>0</td>\n",
       "      <td>0</td>\n",
       "      <td>0</td>\n",
       "      <td>0</td>\n",
       "      <td>0</td>\n",
       "      <td>1</td>\n",
       "      <td>0</td>\n",
       "    </tr>\n",
       "    <tr>\n",
       "      <th>1</th>\n",
       "      <td>3.0</td>\n",
       "      <td>3.0</td>\n",
       "      <td>5.0</td>\n",
       "      <td>5.0</td>\n",
       "      <td>1</td>\n",
       "      <td>3.0</td>\n",
       "      <td>1.0</td>\n",
       "      <td>1.0</td>\n",
       "      <td>15.0</td>\n",
       "      <td>3.0</td>\n",
       "      <td>...</td>\n",
       "      <td>1</td>\n",
       "      <td>0</td>\n",
       "      <td>0</td>\n",
       "      <td>0</td>\n",
       "      <td>0</td>\n",
       "      <td>0</td>\n",
       "      <td>1</td>\n",
       "      <td>0</td>\n",
       "      <td>0</td>\n",
       "      <td>0</td>\n",
       "    </tr>\n",
       "    <tr>\n",
       "      <th>2</th>\n",
       "      <td>4.0</td>\n",
       "      <td>4.0</td>\n",
       "      <td>5.0</td>\n",
       "      <td>2.0</td>\n",
       "      <td>0</td>\n",
       "      <td>0.0</td>\n",
       "      <td>0.0</td>\n",
       "      <td>0.0</td>\n",
       "      <td>8.0</td>\n",
       "      <td>2.0</td>\n",
       "      <td>...</td>\n",
       "      <td>0</td>\n",
       "      <td>0</td>\n",
       "      <td>0</td>\n",
       "      <td>0</td>\n",
       "      <td>0</td>\n",
       "      <td>1</td>\n",
       "      <td>0</td>\n",
       "      <td>0</td>\n",
       "      <td>0</td>\n",
       "      <td>0</td>\n",
       "    </tr>\n",
       "    <tr>\n",
       "      <th>3</th>\n",
       "      <td>3.0</td>\n",
       "      <td>4.0</td>\n",
       "      <td>4.0</td>\n",
       "      <td>2.0</td>\n",
       "      <td>0</td>\n",
       "      <td>32.0</td>\n",
       "      <td>10.0</td>\n",
       "      <td>10.0</td>\n",
       "      <td>8.0</td>\n",
       "      <td>5.0</td>\n",
       "      <td>...</td>\n",
       "      <td>0</td>\n",
       "      <td>0</td>\n",
       "      <td>0</td>\n",
       "      <td>0</td>\n",
       "      <td>1</td>\n",
       "      <td>0</td>\n",
       "      <td>0</td>\n",
       "      <td>0</td>\n",
       "      <td>1</td>\n",
       "      <td>0</td>\n",
       "    </tr>\n",
       "    <tr>\n",
       "      <th>4</th>\n",
       "      <td>3.0</td>\n",
       "      <td>3.0</td>\n",
       "      <td>5.0</td>\n",
       "      <td>5.0</td>\n",
       "      <td>0</td>\n",
       "      <td>8.0</td>\n",
       "      <td>2.0</td>\n",
       "      <td>1.0</td>\n",
       "      <td>3.0</td>\n",
       "      <td>3.0</td>\n",
       "      <td>...</td>\n",
       "      <td>1</td>\n",
       "      <td>0</td>\n",
       "      <td>0</td>\n",
       "      <td>0</td>\n",
       "      <td>0</td>\n",
       "      <td>1</td>\n",
       "      <td>0</td>\n",
       "      <td>0</td>\n",
       "      <td>0</td>\n",
       "      <td>0</td>\n",
       "    </tr>\n",
       "  </tbody>\n",
       "</table>\n",
       "<p>5 rows × 73 columns</p>\n",
       "</div>"
      ],
      "text/plain": [
       "   ALTERSKATEGORIE_GROB  FINANZ_MINIMALIST  FINANZ_VORSORGER  \\\n",
       "0                   3.0                3.0               2.0   \n",
       "1                   3.0                3.0               5.0   \n",
       "2                   4.0                4.0               5.0   \n",
       "3                   3.0                4.0               4.0   \n",
       "4                   3.0                3.0               5.0   \n",
       "\n",
       "   FINANZ_HAUSBAUER  GREEN_AVANTGARDE  LP_LEBENSPHASE_FEIN  \\\n",
       "0               5.0                 0                 21.0   \n",
       "1               5.0                 1                  3.0   \n",
       "2               2.0                 0                  0.0   \n",
       "3               2.0                 0                 32.0   \n",
       "4               5.0                 0                  8.0   \n",
       "\n",
       "   LP_LEBENSPHASE_GROB  LP_FAMILIE_FEIN  PRAEGENDE_JUGENDJAHRE  \\\n",
       "0                  6.0              5.0                   14.0   \n",
       "1                  1.0              1.0                   15.0   \n",
       "2                  0.0              0.0                    8.0   \n",
       "3                 10.0             10.0                    8.0   \n",
       "4                  2.0              1.0                    3.0   \n",
       "\n",
       "   RETOURTYP_BK_S        ...          LP_FAMILIE_GROB_1.0  \\\n",
       "0             1.0        ...                            0   \n",
       "1             3.0        ...                            1   \n",
       "2             2.0        ...                            0   \n",
       "3             5.0        ...                            0   \n",
       "4             3.0        ...                            1   \n",
       "\n",
       "   LP_FAMILIE_GROB_2.0  LP_FAMILIE_GROB_3.0  LP_FAMILIE_GROB_4.0  \\\n",
       "0                    0                    1                    0   \n",
       "1                    0                    0                    0   \n",
       "2                    0                    0                    0   \n",
       "3                    0                    0                    0   \n",
       "4                    0                    0                    0   \n",
       "\n",
       "   LP_FAMILIE_GROB_5.0  CJT_GESAMTTYP_2.0  CJT_GESAMTTYP_3.0  \\\n",
       "0                    0                  0                  0   \n",
       "1                    0                  0                  1   \n",
       "2                    0                  1                  0   \n",
       "3                    1                  0                  0   \n",
       "4                    0                  1                  0   \n",
       "\n",
       "   CJT_GESAMTTYP_4.0  CJT_GESAMTTYP_5.0  CJT_GESAMTTYP_6.0  \n",
       "0                  0                  1                  0  \n",
       "1                  0                  0                  0  \n",
       "2                  0                  0                  0  \n",
       "3                  0                  1                  0  \n",
       "4                  0                  0                  0  \n",
       "\n",
       "[5 rows x 73 columns]"
      ]
     },
     "execution_count": 493,
     "metadata": {},
     "output_type": "execute_result"
    }
   ],
   "source": [
    "azdias_unpick.head()"
   ]
  },
  {
   "cell_type": "markdown",
   "metadata": {},
   "source": [
    "#### Discussion 1.2.1: Re-Encode Categorical Features\n",
    "\n",
    "- There are 14 categorical variables in the data after cleaning. \n",
    "- Out of 14 variables, 3 variables are binary which inclues *OST_WEST_KZ* that is non-numeric value. I re-encoded the *OST_WEST_KZ* and created a dummy variable for it while keeping other two binary numeric variables as they were.\n",
    "- The rest of 11 variables are multi-level categoricals, there are some variables that have many levels. I utilized the Data Dictionary to help me understand can those variables be removed (a. how important are they to answer our question?; b. are there any relative fields that might be correlated to those fields?)\n",
    "    - CAMEO_DEU_2015 & CAMEO_DEUG_2015 --> removed, similar variable found *CAMEO_INTL_2015*\n",
    "    - GEBAEUDETYP --> removed, this is ratio of residential to commercial activity, this might be more useful if the business focus on physical location rather than mail order sales.\n",
    "    - ZABEOTYP --> removed, this is energy comsumption typology which is not very relevant to answer our question\n",
    "    - TITEL_KZ --> removed, this is academic title flag, not very relevant\n",
    "    - LP_STATUS_GROB & LP_STATUS_FEIN --> removed, these are about social status which can be highly correlated to *CAMEO_INTL_2015* as high income earners potentially live in wealthy neighborhood \n",
    "    - LP_FAMILIE_GROB --> re-encode. This is Family type.\n",
    "    - GFK_URLAUBERTYP --> removed, vacation habit, not very relevant\n",
    "    - CJT_GESAMTTYP --> re-encode. Customer journey typology.\n",
    "    "
   ]
  },
  {
   "cell_type": "markdown",
   "metadata": {},
   "source": [
    "#### Step 1.2.2: Engineer Mixed-Type Features\n",
    "\n",
    "There are a handful of features that are marked as \"mixed\" in the feature summary that require special treatment in order to be included in the analysis. There are two in particular that deserve attention; the handling of the rest are up to your own choices:\n",
    "- \"PRAEGENDE_JUGENDJAHRE\" combines information on three dimensions: generation by decade, movement (mainstream vs. avantgarde), and nation (east vs. west). While there aren't enough levels to disentangle east from west, you should create two new variables to capture the other two dimensions: an interval-type variable for decade, and a binary variable for movement.\n",
    "- \"CAMEO_INTL_2015\" combines information on two axes: wealth and life stage. Break up the two-digit codes by their 'tens'-place and 'ones'-place digits into two new ordinal variables (which, for the purposes of this project, is equivalent to just treating them as their raw numeric values).\n",
    "- If you decide to keep or engineer new features around the other mixed-type features, make sure you note your steps in the Discussion section.\n",
    "\n",
    "Be sure to check `Data_Dictionary.md` for the details needed to finish these tasks."
   ]
  },
  {
   "cell_type": "code",
   "execution_count": 494,
   "metadata": {},
   "outputs": [
    {
     "data": {
      "text/plain": [
       "array([14., 15.,  8.,  3., 10., 11.,  5.,  9.,  6.,  4.,  2., 12., 13.,\n",
       "        7.])"
      ]
     },
     "execution_count": 494,
     "metadata": {},
     "output_type": "execute_result"
    }
   ],
   "source": [
    "azdias_unpick['PRAEGENDE_JUGENDJAHRE'].unique()"
   ]
  },
  {
   "cell_type": "code",
   "execution_count": 495,
   "metadata": {},
   "outputs": [],
   "source": [
    "# Investigate \"PRAEGENDE_JUGENDJAHRE\" and engineer two new variables.\n",
    "\n",
    "#create two new variable to capture generation by decade and movement\n",
    "#interval type variable for decade\n",
    "def decade_fun(x):\n",
    "    if x in (1,2):\n",
    "        return 1 #40s\n",
    "    if x in (3,4):\n",
    "        return 2 #50s\n",
    "    if x in (5,6,7):\n",
    "        return 3 #60s\n",
    "    if x in (8,9):\n",
    "        return 4 #70s\n",
    "    if x in (10,11,12,13):\n",
    "        return 5 #80s\n",
    "    else:\n",
    "        return 6 #90s\n",
    "\n",
    "#binary for movement\n",
    "def move_fun(x):\n",
    "    if x in (1,3,5,8,10,12,14):\n",
    "        return 1\n",
    "    else: \n",
    "        return 2    "
   ]
  },
  {
   "cell_type": "code",
   "execution_count": 496,
   "metadata": {},
   "outputs": [],
   "source": [
    "azdias_unpick['PRAEGENDE_JUGENDJAHRE_DECADE'] = azdias_unpick['PRAEGENDE_JUGENDJAHRE'].apply(decade_fun)\n",
    "azdias_unpick['PRAEGENDE_JUGENDJAHRE_MOVEMENT'] = azdias_unpick['PRAEGENDE_JUGENDJAHRE'].apply(move_fun)"
   ]
  },
  {
   "cell_type": "code",
   "execution_count": 497,
   "metadata": {},
   "outputs": [
    {
     "data": {
      "text/plain": [
       "array(['51', '24', '12', '43', '54', '22', '14', '13', '15', '33', '41',\n",
       "       '34', '55', '25', '23', '31', '52', '35', '45', '44', '32'],\n",
       "      dtype=object)"
      ]
     },
     "execution_count": 497,
     "metadata": {},
     "output_type": "execute_result"
    }
   ],
   "source": [
    "# Investigate \"CAMEO_INTL_2015\" and engineer two new variables.\n",
    "azdias_unpick['CAMEO_INTL_2015'].unique()\n",
    "\n"
   ]
  },
  {
   "cell_type": "code",
   "execution_count": 498,
   "metadata": {},
   "outputs": [],
   "source": [
    "splitat = 1\n",
    "def wealthy(x):\n",
    "    return x[:splitat] #get wealth\n",
    "\n",
    "def lifestage(x):\n",
    "    return x[splitat:]#get life stage\n"
   ]
  },
  {
   "cell_type": "code",
   "execution_count": 499,
   "metadata": {},
   "outputs": [],
   "source": [
    "azdias_unpick['CAMEO_INTL_2015_WEALTH'] = azdias_unpick['CAMEO_INTL_2015'].apply(wealthy)\n",
    "azdias_unpick['CAMEO_INTL_2015_LIFESTAGE'] = azdias_unpick['CAMEO_INTL_2015'].apply(lifestage)"
   ]
  },
  {
   "cell_type": "code",
   "execution_count": 500,
   "metadata": {},
   "outputs": [
    {
     "data": {
      "text/plain": [
       "15      LP_LEBENSPHASE_FEIN\n",
       "16      LP_LEBENSPHASE_GROB\n",
       "22    PRAEGENDE_JUGENDJAHRE\n",
       "56                 WOHNLAGE\n",
       "59          CAMEO_INTL_2015\n",
       "64             KBA05_BAUMAX\n",
       "79              PLZ8_BAUMAX\n",
       "Name: attribute, dtype: object"
      ]
     },
     "execution_count": 500,
     "metadata": {},
     "output_type": "execute_result"
    }
   ],
   "source": [
    "#all mixed variables \n",
    "feat_info_c[feat_info_c['type'] == 'mixed']['attribute']"
   ]
  },
  {
   "cell_type": "code",
   "execution_count": 501,
   "metadata": {},
   "outputs": [],
   "source": [
    "#remove not needed variables \n",
    "col_remove = ['LP_LEBENSPHASE_FEIN','LP_LEBENSPHASE_GROB','WOHNLAGE','PLZ8_BAUMAX','KBA05_BAUMAX','CAMEO_INTL_2015','PRAEGENDE_JUGENDJAHRE']"
   ]
  },
  {
   "cell_type": "code",
   "execution_count": 502,
   "metadata": {},
   "outputs": [],
   "source": [
    "#drop columns\n",
    "azdias_unpick.drop(col_remove, axis=1, inplace=True)\n",
    "#drop attributes \n",
    "feat_info_c =feat_info_c[~feat_info_c['attribute'].isin(col_remove)]"
   ]
  },
  {
   "cell_type": "code",
   "execution_count": 503,
   "metadata": {},
   "outputs": [
    {
     "data": {
      "text/plain": [
       "ordinal        45\n",
       "numeric         6\n",
       "categorical     6\n",
       "interval        1\n",
       "Name: type, dtype: int64"
      ]
     },
     "execution_count": 503,
     "metadata": {},
     "output_type": "execute_result"
    }
   ],
   "source": [
    "feat_info_c['type'].value_counts()"
   ]
  },
  {
   "cell_type": "markdown",
   "metadata": {},
   "source": [
    "#### Discussion 1.2.2: Engineer Mixed-Type Features\n",
    "\n",
    "There were 7 mixed-value features, I transformed 2 of them and dropped the rest of them.\n",
    "\n",
    "- 'PRAEGENDE_JUGENDJAHRE' and 'CAMEO_INTL_2015' contain different levels of *sub-categories*, therefore, I split the original feature into different levels\n",
    "- Other Mixed Variables\n",
    "    - 'LP_LEBENSPHASE_FEIN' & 'LP_LEBENSPHASE_GROB' --> removed, this variable contains similar information as 'PRAEGENDE_JUGENDJAHRE'\n",
    "    - 'WOHNLAGE' --> removed, this is highly correlated to 'CAMEO_INTL_2015_WEALTH'\n",
    "    - 'PLZ8_BAUMAX' & 'KBA05_BAUMAX' --> removed, there are similar variables such as 'PLZ8_ANTG3'"
   ]
  },
  {
   "cell_type": "markdown",
   "metadata": {},
   "source": [
    "#### Step 1.2.3: Complete Feature Selection\n",
    "\n",
    "In order to finish this step up, you need to make sure that your data frame now only has the columns that you want to keep. To summarize, the dataframe should consist of the following:\n",
    "- All numeric, interval, and ordinal type columns from the original dataset.\n",
    "- Binary categorical features (all numerically-encoded).\n",
    "- Engineered features from other multi-level categorical features and mixed features.\n",
    "\n",
    "Make sure that for any new columns that you have engineered, that you've excluded the original columns from the final dataset. Otherwise, their values will interfere with the analysis later on the project. For example, you should not keep \"PRAEGENDE_JUGENDJAHRE\", since its values won't be useful for the algorithm: only the values derived from it in the engineered features you created should be retained. As a reminder, your data should only be from **the subset with few or no missing values**."
   ]
  },
  {
   "cell_type": "code",
   "execution_count": 504,
   "metadata": {},
   "outputs": [],
   "source": [
    "# If there are other re-engineering tasks you need to perform, make sure you\n",
    "# take care of them here. (Dealing with missing data will come in step 2.1.)\n",
    "\n",
    "#removed not needed columns in previous steps"
   ]
  },
  {
   "cell_type": "markdown",
   "metadata": {},
   "source": [
    "### Step 1.3: Create a Cleaning Function\n",
    "\n",
    "Even though you've finished cleaning up the general population demographics data, it's important to look ahead to the future and realize that you'll need to perform the same cleaning steps on the customer demographics data. In this substep, complete the function below to execute the main feature selection, encoding, and re-engineering steps you performed above. Then, when it comes to looking at the customer data in Step 3, you can just run this function on that DataFrame to get the trimmed dataset in a single step."
   ]
  },
  {
   "cell_type": "code",
   "execution_count": 505,
   "metadata": {},
   "outputs": [
    {
     "data": {
      "text/plain": [
       "['NATIONALITAET_KZ',\n",
       " 'AGER_TYP',\n",
       " 'KK_KUNDENTYP',\n",
       " 'VERS_TYP',\n",
       " 'ANREDE_KZ',\n",
       " 'GEBURTSJAHR',\n",
       " 'SHOPPER_TYP',\n",
       " 'HEALTH_TYP',\n",
       " 'FINANZ_SPARER',\n",
       " 'FINANZ_UNAUFFAELLIGER',\n",
       " 'FINANZ_ANLEGER',\n",
       " 'FINANZTYP']"
      ]
     },
     "execution_count": 505,
     "metadata": {},
     "output_type": "execute_result"
    }
   ],
   "source": [
    "drop_20"
   ]
  },
  {
   "cell_type": "code",
   "execution_count": 506,
   "metadata": {},
   "outputs": [],
   "source": [
    "def clean_data(df):\n",
    "    \"\"\"\n",
    "    Perform feature trimming, re-encoding, and engineering for demographics\n",
    "    data\n",
    "    \n",
    "    INPUT: Demographics DataFrame\n",
    "    OUTPUT: Trimmed and cleaned demographics DataFrame\n",
    "    \"\"\"\n",
    "    \n",
    "    # Put in code here to execute all main cleaning steps:\n",
    "    # convert missing value codes into NaNs, ...\n",
    "    for cols in range(feat_info.shape[0]):\n",
    "    #for each column index\n",
    "        df.iloc[:,cols] = df.iloc[:,cols].map(lambda x: np.nan if str(x) in feat_info.iloc[cols,3] else x)\n",
    "    #replace values in the azdias each column, transform each value to a string in azdias and if the value match any in the string in feat_info then replace with nan else leave as it is\n",
    "    \n",
    "    drop_20 = ['NATIONALITAET_KZ','AGER_TYP','KK_KUNDENTYP', 'VERS_TYP', 'ANREDE_KZ', 'GEBURTSJAHR', 'SHOPPER_TYP', 'HEALTH_TYP', 'FINANZ_SPARER', 'FINANZ_UNAUFFAELLIGER','FINANZ_ANLEGER', 'FINANZTYP']\n",
    "    # remove selected columns and rows, ...\n",
    "    df.drop(drop_20, axis=1, inplace=True)\n",
    "   \n",
    "    #-----#1\n",
    "    #for rows that have missing value more than 40% (30+), remove them \n",
    "    df = df[df.isnull().sum(axis=1) <= 30].reset_index(drop=True)\n",
    "    \n",
    "    # select, re-encode, and engineer column values.\n",
    "   \n",
    "    #impute missing values with mode of each column\n",
    "    df.fillna(df.mode().iloc[0],inplace=True)\n",
    "\n",
    "    #re-encode OST_WEST_KZ into 1 and 0 and drop the first \n",
    "    df = pd.get_dummies(df, columns=[\"OST_WEST_KZ\"], prefix=[\"OST_WEST_KZ\"],drop_first=True)\n",
    "\n",
    "    # Re-encode categorical variable(s) to be kept in the analysis.\n",
    "    cols_remove = ['CAMEO_DEU_2015','CAMEO_DEUG_2015','GEBAEUDETYP','ZABEOTYP','TITEL_KZ','LP_STATUS_GROB','LP_STATUS_FEIN','GFK_URLAUBERTYP']\n",
    "    #drop columns\n",
    "    df.drop(cols_remove, axis=1, inplace=True)\n",
    "    # do one hot encoding for the rest of multi-level categorical columns\n",
    "    df = pd.get_dummies(df, columns=[\"LP_FAMILIE_GROB\",\"CJT_GESAMTTYP\"], prefix=[\"LP_FAMILIE_GROB\",\"CJT_GESAMTTYP\"],drop_first=True)\n",
    "    \n",
    "    df['PRAEGENDE_JUGENDJAHRE_DECADE'] = df['PRAEGENDE_JUGENDJAHRE'].apply(decade_fun)\n",
    "    df['PRAEGENDE_JUGENDJAHRE_MOVEMENT'] = df['PRAEGENDE_JUGENDJAHRE'].apply(move_fun)\n",
    "    \n",
    "    df['CAMEO_INTL_2015_WEALTH'] = df['CAMEO_INTL_2015'].apply(wealthy)\n",
    "    df['CAMEO_INTL_2015_LIFESTAGE'] = df['CAMEO_INTL_2015'].apply(lifestage)\n",
    "\n",
    "    #remove not needed variables \n",
    "    col_remove = ['LP_LEBENSPHASE_FEIN','LP_LEBENSPHASE_GROB','WOHNLAGE','PLZ8_BAUMAX','KBA05_BAUMAX','CAMEO_INTL_2015','PRAEGENDE_JUGENDJAHRE']\n",
    "\n",
    "    #drop columns\n",
    "    df.drop(col_remove, axis=1, inplace=True)\n",
    "\n",
    "    # Return the cleaned dataframe.\n",
    "    return df\n",
    "    "
   ]
  },
  {
   "cell_type": "markdown",
   "metadata": {},
   "source": [
    "## Step 2: Feature Transformation\n",
    "\n",
    "### Step 2.1: Apply Feature Scaling\n",
    "\n",
    "Before we apply dimensionality reduction techniques to the data, we need to perform feature scaling so that the principal component vectors are not influenced by the natural differences in scale for features. Starting from this part of the project, you'll want to keep an eye on the [API reference page for sklearn](http://scikit-learn.org/stable/modules/classes.html) to help you navigate to all of the classes and functions that you'll need. In this substep, you'll need to check the following:\n",
    "\n",
    "- sklearn requires that data not have missing values in order for its estimators to work properly. So, before applying the scaler to your data, make sure that you've cleaned the DataFrame of the remaining missing values. This can be as simple as just removing all data points with missing data, or applying an [Imputer](http://scikit-learn.org/stable/modules/generated/sklearn.preprocessing.Imputer.html) to replace all missing values. You might also try a more complicated procedure where you temporarily remove missing values in order to compute the scaling parameters before re-introducing those missing values and applying imputation. Think about how much missing data you have and what possible effects each approach might have on your analysis, and justify your decision in the discussion section below.\n",
    "- For the actual scaling function, a [StandardScaler](http://scikit-learn.org/stable/modules/generated/sklearn.preprocessing.StandardScaler.html) instance is suggested, scaling each feature to mean 0 and standard deviation 1.\n",
    "- For these classes, you can make use of the `.fit_transform()` method to both fit a procedure to the data as well as apply the transformation to the data at the same time. Don't forget to keep the fit sklearn objects handy, since you'll be applying them to the customer demographics data towards the end of the project."
   ]
  },
  {
   "cell_type": "code",
   "execution_count": 507,
   "metadata": {},
   "outputs": [
    {
     "data": {
      "text/plain": [
       "ALTERSKATEGORIE_GROB              0.0\n",
       "FINANZ_MINIMALIST                 0.0\n",
       "FINANZ_VORSORGER                  0.0\n",
       "FINANZ_HAUSBAUER                  0.0\n",
       "GREEN_AVANTGARDE                  0.0\n",
       "LP_FAMILIE_FEIN                   0.0\n",
       "RETOURTYP_BK_S                    0.0\n",
       "SEMIO_SOZ                         0.0\n",
       "SEMIO_FAM                         0.0\n",
       "SEMIO_REL                         0.0\n",
       "SEMIO_MAT                         0.0\n",
       "SEMIO_VERT                        0.0\n",
       "SEMIO_LUST                        0.0\n",
       "SEMIO_ERL                         0.0\n",
       "SEMIO_KULT                        0.0\n",
       "SEMIO_RAT                         0.0\n",
       "SEMIO_KRIT                        0.0\n",
       "SEMIO_DOM                         0.0\n",
       "SEMIO_KAEM                        0.0\n",
       "SEMIO_PFLICHT                     0.0\n",
       "SEMIO_TRADV                       0.0\n",
       "SOHO_KZ                           0.0\n",
       "ALTER_HH                          0.0\n",
       "ANZ_PERSONEN                      0.0\n",
       "ANZ_TITEL                         0.0\n",
       "HH_EINKOMMEN_SCORE                0.0\n",
       "W_KEIT_KIND_HH                    0.0\n",
       "WOHNDAUER_2008                    0.0\n",
       "ANZ_HAUSHALTE_AKTIV               0.0\n",
       "ANZ_HH_TITEL                      0.0\n",
       "                                 ... \n",
       "GEBAEUDETYP_RASTER                0.0\n",
       "KKK                               0.0\n",
       "MOBI_REGIO                        0.0\n",
       "ONLINE_AFFINITAET                 0.0\n",
       "REGIOTYP                          0.0\n",
       "KBA13_ANZAHL_PKW                  0.0\n",
       "PLZ8_ANTG1                        0.0\n",
       "PLZ8_ANTG2                        0.0\n",
       "PLZ8_ANTG3                        0.0\n",
       "PLZ8_ANTG4                        0.0\n",
       "PLZ8_HHZ                          0.0\n",
       "PLZ8_GBZ                          0.0\n",
       "ARBEIT                            0.0\n",
       "ORTSGR_KLS9                       0.0\n",
       "RELAT_AB                          0.0\n",
       "OST_WEST_KZ_W                     0.0\n",
       "LP_FAMILIE_GROB_1.0               0.0\n",
       "LP_FAMILIE_GROB_2.0               0.0\n",
       "LP_FAMILIE_GROB_3.0               0.0\n",
       "LP_FAMILIE_GROB_4.0               0.0\n",
       "LP_FAMILIE_GROB_5.0               0.0\n",
       "CJT_GESAMTTYP_2.0                 0.0\n",
       "CJT_GESAMTTYP_3.0                 0.0\n",
       "CJT_GESAMTTYP_4.0                 0.0\n",
       "CJT_GESAMTTYP_5.0                 0.0\n",
       "CJT_GESAMTTYP_6.0                 0.0\n",
       "PRAEGENDE_JUGENDJAHRE_DECADE      0.0\n",
       "PRAEGENDE_JUGENDJAHRE_MOVEMENT    0.0\n",
       "CAMEO_INTL_2015_WEALTH            0.0\n",
       "CAMEO_INTL_2015_LIFESTAGE         0.0\n",
       "Length: 70, dtype: float64"
      ]
     },
     "execution_count": 507,
     "metadata": {},
     "output_type": "execute_result"
    }
   ],
   "source": [
    "# If you've not yet cleaned the dataset of all NaN values, then investigate and\n",
    "# do that now.\n",
    "#double check for missing vlaue\n",
    "(azdias_unpick.isnull().sum()/len(azdias_unpick)*100)\n"
   ]
  },
  {
   "cell_type": "code",
   "execution_count": 508,
   "metadata": {},
   "outputs": [],
   "source": [
    "# Apply feature scaling to the general population demographics data.\n",
    "\n",
    "from sklearn.preprocessing import StandardScaler\n",
    "azdias_scaled = StandardScaler().fit_transform(azdias_unpick) #numpy.ndarray\n",
    "\n",
    "#transform to data frame\n",
    "azdias_scaled=pd.DataFrame(azdias_scaled)\n",
    "azdias_scaled.columns=azdias_unpick.columns\n"
   ]
  },
  {
   "cell_type": "markdown",
   "metadata": {},
   "source": [
    "### Discussion 2.1: Apply Feature Scaling\n",
    "\n",
    "Feature Scaling:\n",
    "\n",
    "- Normalization is important in PCA since PCA essentially is a variance maximizing exercise. It projects the original data onto directions which maximize the variance. If some variables have large variance and some have small variance, PCA will load towards those with large variance. \n"
   ]
  },
  {
   "cell_type": "markdown",
   "metadata": {},
   "source": [
    "### Step 2.2: Perform Dimensionality Reduction\n",
    "\n",
    "On your scaled data, you are now ready to apply dimensionality reduction techniques.\n",
    "\n",
    "- Use sklearn's [PCA](http://scikit-learn.org/stable/modules/generated/sklearn.decomposition.PCA.html) class to apply principal component analysis on the data, thus finding the vectors of maximal variance in the data. To start, you should not set any parameters (so all components are computed) or set a number of components that is at least half the number of features (so there's enough features to see the general trend in variability).\n",
    "- Check out the ratio of variance explained by each principal component as well as the cumulative variance explained. Try plotting the cumulative or sequential values using matplotlib's [`plot()`](https://matplotlib.org/api/_as_gen/matplotlib.pyplot.plot.html) function. Based on what you find, select a value for the number of transformed features you'll retain for the clustering part of the project.\n",
    "- Once you've made a choice for the number of components to keep, make sure you re-fit a PCA instance to perform the decided-on transformation."
   ]
  },
  {
   "cell_type": "code",
   "execution_count": 509,
   "metadata": {},
   "outputs": [],
   "source": [
    "# Apply PCA to the data.\n",
    "\n",
    "#load\n",
    "from sklearn.decomposition import PCA\n",
    "\n",
    "pca = PCA(n_components=30)\n",
    "x_pca = pca.fit_transform(azdias_scaled)\n"
   ]
  },
  {
   "cell_type": "code",
   "execution_count": 510,
   "metadata": {},
   "outputs": [],
   "source": [
    "def scree_plot(pca):\n",
    "    '''\n",
    "    Creates a scree plot associated with the principal components \n",
    "    \n",
    "    INPUT: pca - the result of instantian of PCA in scikit learn\n",
    "            \n",
    "    OUTPUT:\n",
    "            None\n",
    "    '''\n",
    "    num_components=len(pca.explained_variance_ratio_)\n",
    "    ind = np.arange(num_components)\n",
    "    vals = pca.explained_variance_ratio_\n",
    " \n",
    "    plt.figure(figsize=(20, 10))\n",
    "    ax = plt.subplot(111)\n",
    "    cumvals = np.cumsum(vals)\n",
    "    ax.bar(ind, vals)\n",
    "    ax.plot(ind, cumvals)\n",
    "    for i in range(num_components):\n",
    "        ax.annotate(r\"%s%%\" % ((str(vals[i]*100)[:4])), (ind[i]+0.2, vals[i]), va=\"bottom\", ha=\"center\", fontsize=12)\n",
    " \n",
    "    ax.xaxis.set_tick_params(width=0)\n",
    "    ax.yaxis.set_tick_params(width=2, length=12)\n",
    " \n",
    "    ax.set_xlabel(\"Principal Component\")\n",
    "    ax.set_ylabel(\"Variance Explained (%)\")\n",
    "    plt.title('Explained Variance Per Principal Component')"
   ]
  },
  {
   "cell_type": "markdown",
   "metadata": {},
   "source": [
    "**Load Helper Functions That Were Created & Used from the program**"
   ]
  },
  {
   "cell_type": "code",
   "execution_count": 511,
   "metadata": {},
   "outputs": [
    {
     "data": {
      "image/png": "[encoded data removed]",
      "text/plain": [
       "<matplotlib.figure.Figure at 0x1bfec59160>"
      ]
     },
     "metadata": {},
     "output_type": "display_data"
    }
   ],
   "source": [
    "# Investigate the variance accounted for by each principal component.\n",
    "scree_plot(pca)\n",
    "#The amount of variance explained by each component. This is called an eigenvalue."
   ]
  },
  {
   "cell_type": "code",
   "execution_count": null,
   "metadata": {},
   "outputs": [],
   "source": []
  },
  {
   "cell_type": "code",
   "execution_count": 512,
   "metadata": {},
   "outputs": [],
   "source": [
    "# Re-apply PCA to the data while selecting for number of components to retain.\n",
    "\n",
    "#14 components explained about 60% variance\n",
    "pca2 = PCA(n_components=12)\n",
    "x_pca2 = pca2.fit_transform(azdias_scaled)\n",
    "\n"
   ]
  },
  {
   "cell_type": "code",
   "execution_count": 513,
   "metadata": {},
   "outputs": [
    {
     "data": {
      "image/png": "[encoded data removed]",
      "text/plain": [
       "<matplotlib.figure.Figure at 0x1b3fad70b8>"
      ]
     },
     "metadata": {},
     "output_type": "display_data"
    }
   ],
   "source": [
    "scree_plot(pca2)"
   ]
  },
  {
   "cell_type": "markdown",
   "metadata": {},
   "source": [
    "### Discussion 2.2: Perform Dimensionality Reduction\n",
    "\n",
    "**Performing PCA**\n",
    "- Out of 72 features, I selected 30 components while performing dimensionality reduction task. As we can see from the scree plot, all 30 components can explain about 80% of variance\n",
    "- We can see that, first component explaind 14.7% variance, second component explained 9.01% and so on from the scree plot\n",
    "- Out of 30 components, I decided to select the first 12 components which explained about 60% of variance, which was the point where the slope of the curve is clearly leveling off.\n",
    "\n"
   ]
  },
  {
   "cell_type": "markdown",
   "metadata": {},
   "source": [
    "### Step 2.3: Interpret Principal Components\n",
    "\n",
    "Now that we have our transformed principal components, it's a nice idea to check out the weight of each variable on the first few components to see if they can be interpreted in some fashion.\n",
    "\n",
    "As a reminder, each principal component is a unit vector that points in the direction of highest variance (after accounting for the variance captured by earlier principal components). The further a weight is from zero, the more the principal component is in the direction of the corresponding feature. If two features have large weights of the same sign (both positive or both negative), then increases in one tend expect to be associated with increases in the other. To contrast, features with different signs can be expected to show a negative correlation: increases in one variable should result in a decrease in the other.\n",
    "\n",
    "- To investigate the features, you should map each weight to their corresponding feature name, then sort the features according to weight. The most interesting features for each principal component, then, will be those at the beginning and end of the sorted list. Use the data dictionary document to help you understand these most prominent features, their relationships, and what a positive or negative value on the principal component might indicate.\n",
    "- You should investigate and interpret feature associations from the first three principal components in this substep. To help facilitate this, you should write a function that you can call at any time to print the sorted list of feature weights, for the *i*-th principal component. This might come in handy in the next step of the project, when you interpret the tendencies of the discovered clusters."
   ]
  },
  {
   "cell_type": "code",
   "execution_count": 514,
   "metadata": {},
   "outputs": [],
   "source": [
    "# Dimension indexing\n",
    "dimensions = dimensions = ['Dimension {}'.format(i) for i in range(1,len(pca2.components_)+1)]\n",
    "\n",
    "# PCA components\n",
    "components = pd.DataFrame(np.round(pca2.components_, 4), columns = azdias_scaled.keys())\n",
    "components.index = dimensions"
   ]
  },
  {
   "cell_type": "code",
   "execution_count": 515,
   "metadata": {},
   "outputs": [],
   "source": [
    "#transpose dataframe\n",
    "#rows to columns; columns to rows \n",
    "components_transposed = components.T"
   ]
  },
  {
   "cell_type": "code",
   "execution_count": 516,
   "metadata": {},
   "outputs": [
    {
     "data": {
      "text/html": [
       "<div>\n",
       "<style scoped>\n",
       "    .dataframe tbody tr th:only-of-type {\n",
       "        vertical-align: middle;\n",
       "    }\n",
       "\n",
       "    .dataframe tbody tr th {\n",
       "        vertical-align: top;\n",
       "    }\n",
       "\n",
       "    .dataframe thead th {\n",
       "        text-align: right;\n",
       "    }\n",
       "</style>\n",
       "<table border=\"1\" class=\"dataframe\">\n",
       "  <thead>\n",
       "    <tr style=\"text-align: right;\">\n",
       "      <th></th>\n",
       "      <th>Dimension 1</th>\n",
       "      <th>Dimension 2</th>\n",
       "      <th>Dimension 3</th>\n",
       "      <th>Dimension 4</th>\n",
       "      <th>Dimension 5</th>\n",
       "      <th>Dimension 6</th>\n",
       "      <th>Dimension 7</th>\n",
       "      <th>Dimension 8</th>\n",
       "      <th>Dimension 9</th>\n",
       "      <th>Dimension 10</th>\n",
       "      <th>Dimension 11</th>\n",
       "      <th>Dimension 12</th>\n",
       "    </tr>\n",
       "  </thead>\n",
       "  <tbody>\n",
       "    <tr>\n",
       "      <th>ALTERSKATEGORIE_GROB</th>\n",
       "      <td>-0.0509</td>\n",
       "      <td>0.2750</td>\n",
       "      <td>-0.1307</td>\n",
       "      <td>0.0547</td>\n",
       "      <td>0.0746</td>\n",
       "      <td>0.0409</td>\n",
       "      <td>0.0162</td>\n",
       "      <td>-0.0544</td>\n",
       "      <td>-0.0536</td>\n",
       "      <td>0.0105</td>\n",
       "      <td>-0.0352</td>\n",
       "      <td>0.0385</td>\n",
       "    </tr>\n",
       "    <tr>\n",
       "      <th>FINANZ_MINIMALIST</th>\n",
       "      <td>-0.1876</td>\n",
       "      <td>0.0579</td>\n",
       "      <td>-0.1334</td>\n",
       "      <td>0.0849</td>\n",
       "      <td>-0.0453</td>\n",
       "      <td>-0.0919</td>\n",
       "      <td>0.0133</td>\n",
       "      <td>0.0345</td>\n",
       "      <td>-0.0470</td>\n",
       "      <td>-0.1820</td>\n",
       "      <td>0.0180</td>\n",
       "      <td>-0.0224</td>\n",
       "    </tr>\n",
       "    <tr>\n",
       "      <th>FINANZ_VORSORGER</th>\n",
       "      <td>-0.0345</td>\n",
       "      <td>0.1831</td>\n",
       "      <td>-0.1035</td>\n",
       "      <td>0.0288</td>\n",
       "      <td>0.0056</td>\n",
       "      <td>-0.0162</td>\n",
       "      <td>-0.0104</td>\n",
       "      <td>0.0272</td>\n",
       "      <td>0.1186</td>\n",
       "      <td>-0.1821</td>\n",
       "      <td>0.0136</td>\n",
       "      <td>0.0352</td>\n",
       "    </tr>\n",
       "    <tr>\n",
       "      <th>FINANZ_HAUSBAUER</th>\n",
       "      <td>0.0555</td>\n",
       "      <td>0.0193</td>\n",
       "      <td>0.0621</td>\n",
       "      <td>-0.0002</td>\n",
       "      <td>0.0640</td>\n",
       "      <td>0.0282</td>\n",
       "      <td>0.1143</td>\n",
       "      <td>-0.1124</td>\n",
       "      <td>-0.0453</td>\n",
       "      <td>-0.2007</td>\n",
       "      <td>-0.0377</td>\n",
       "      <td>-0.0552</td>\n",
       "    </tr>\n",
       "    <tr>\n",
       "      <th>GREEN_AVANTGARDE</th>\n",
       "      <td>-0.1111</td>\n",
       "      <td>0.0028</td>\n",
       "      <td>-0.0340</td>\n",
       "      <td>0.2754</td>\n",
       "      <td>-0.3021</td>\n",
       "      <td>-0.0950</td>\n",
       "      <td>0.0240</td>\n",
       "      <td>0.0327</td>\n",
       "      <td>-0.0616</td>\n",
       "      <td>-0.0160</td>\n",
       "      <td>0.0054</td>\n",
       "      <td>-0.0022</td>\n",
       "    </tr>\n",
       "  </tbody>\n",
       "</table>\n",
       "</div>"
      ],
      "text/plain": [
       "                      Dimension 1  Dimension 2  Dimension 3  Dimension 4  \\\n",
       "ALTERSKATEGORIE_GROB      -0.0509       0.2750      -0.1307       0.0547   \n",
       "FINANZ_MINIMALIST         -0.1876       0.0579      -0.1334       0.0849   \n",
       "FINANZ_VORSORGER          -0.0345       0.1831      -0.1035       0.0288   \n",
       "FINANZ_HAUSBAUER           0.0555       0.0193       0.0621      -0.0002   \n",
       "GREEN_AVANTGARDE          -0.1111       0.0028      -0.0340       0.2754   \n",
       "\n",
       "                      Dimension 5  Dimension 6  Dimension 7  Dimension 8  \\\n",
       "ALTERSKATEGORIE_GROB       0.0746       0.0409       0.0162      -0.0544   \n",
       "FINANZ_MINIMALIST         -0.0453      -0.0919       0.0133       0.0345   \n",
       "FINANZ_VORSORGER           0.0056      -0.0162      -0.0104       0.0272   \n",
       "FINANZ_HAUSBAUER           0.0640       0.0282       0.1143      -0.1124   \n",
       "GREEN_AVANTGARDE          -0.3021      -0.0950       0.0240       0.0327   \n",
       "\n",
       "                      Dimension 9  Dimension 10  Dimension 11  Dimension 12  \n",
       "ALTERSKATEGORIE_GROB      -0.0536        0.0105       -0.0352        0.0385  \n",
       "FINANZ_MINIMALIST         -0.0470       -0.1820        0.0180       -0.0224  \n",
       "FINANZ_VORSORGER           0.1186       -0.1821        0.0136        0.0352  \n",
       "FINANZ_HAUSBAUER          -0.0453       -0.2007       -0.0377       -0.0552  \n",
       "GREEN_AVANTGARDE          -0.0616       -0.0160        0.0054       -0.0022  "
      ]
     },
     "execution_count": 516,
     "metadata": {},
     "output_type": "execute_result"
    }
   ],
   "source": [
    "components_transposed.head()"
   ]
  },
  {
   "cell_type": "code",
   "execution_count": 517,
   "metadata": {},
   "outputs": [
    {
     "data": {
      "text/plain": [
       "Text(0.5,1,'Top 10 & Bottom 10 Features for each Component')"
      ]
     },
     "execution_count": 517,
     "metadata": {},
     "output_type": "execute_result"
    },
    {
     "data": {
      "image/png": "[encoded data removed]",
      "text/plain": [
       "<matplotlib.figure.Figure at 0x1b3fad7748>"
      ]
     },
     "metadata": {},
     "output_type": "display_data"
    }
   ],
   "source": [
    "# Map weights for the first principal component to corresponding feature names\n",
    "# and then print the linked values, sorted by weight.\n",
    "# HINT: Try defining a function here or in a new cell that you can reuse in the\n",
    "# other cells.\n",
    "def pca_top_bot_features(dimension):\n",
    "\tsorted_df = components_transposed.sort_values('Dimension {}'.format(dimension),ascending=False)\n",
    "\ttop_10 = sorted_df[:10]['Dimension {}'.format(dimension)]\n",
    "\tbot_10 = sorted_df[-10:]['Dimension {}'.format(dimension)]\n",
    "\tappending = top_10.append(bot_10) #appending series \n",
    "\n",
    "\t#convert series to a dataframe\n",
    "\tsorted_dim = appending.to_frame().reset_index()\n",
    "\t#reassign column names \n",
    "\tsorted_dim.columns = ['Features', 'Dimension {}'.format(dimension)]\n",
    "\n",
    "\t#plot\n",
    "\treturn sns.barplot(y= 'Features',x='Dimension {}'.format(dimension), data=sorted_dim).set_title('Top 10 & Bottom 10 Features for each Component')\n",
    "\n",
    "pca_top_bot_features(1)"
   ]
  },
  {
   "cell_type": "code",
   "execution_count": 518,
   "metadata": {},
   "outputs": [
    {
     "data": {
      "text/plain": [
       "Text(0.5,1,'Top 10 & Bottom 10 Features for each Component')"
      ]
     },
     "execution_count": 518,
     "metadata": {},
     "output_type": "execute_result"
    },
    {
     "data": {
      "image/png": "[encoded data removed]",
      "text/plain": [
       "<matplotlib.figure.Figure at 0x1a2d335b38>"
      ]
     },
     "metadata": {},
     "output_type": "display_data"
    }
   ],
   "source": [
    "# Map weights for the second principal component to corresponding feature names\n",
    "# and then print the linked values, sorted by weight.\n",
    "\n",
    "pca_top_bot_features(2)"
   ]
  },
  {
   "cell_type": "code",
   "execution_count": 519,
   "metadata": {},
   "outputs": [
    {
     "data": {
      "text/plain": [
       "Text(0.5,1,'Top 10 & Bottom 10 Features for each Component')"
      ]
     },
     "execution_count": 519,
     "metadata": {},
     "output_type": "execute_result"
    },
    {
     "data": {
      "image/png": "[encoded data removed]",
      "text/plain": [
       "<matplotlib.figure.Figure at 0x1a1f4d7b38>"
      ]
     },
     "metadata": {},
     "output_type": "display_data"
    }
   ],
   "source": [
    "# Map weights for the third principal component to corresponding feature names\n",
    "# and then print the linked values, sorted by weight.\n",
    "\n",
    "pca_top_bot_features(3)"
   ]
  },
  {
   "cell_type": "markdown",
   "metadata": {},
   "source": [
    "### Discussion 2.3: Interpret Principal Components\n",
    "\n",
    "In order to undersatnd what features are most associated with each component, I created bar plots using top 10 and bottom 10 features from each of first 3 components as above. \n",
    "\n",
    "**Component 1**\n",
    "- Component 1 is more about people who lives in a community which is relatively large in size \n",
    "    - Such as PLZ8_ANTG2 & PLZ8_ANTG3 & PLZ8_ANTG4 are about # of family houses in PLZ8 region; ORTSGR_KLS9 is about the size of community, or EWDTCHTE - Density of households per square kilometer and HH_EINKOMMEN_SCORE - Estimated household net income and so on.\n",
    "- Features with lower weights are more towards distances to nearby city, or commercial activities (how much a person can be exposed to commercial activities based on distance)\n",
    "\n",
    "**Component 2**\n",
    "- Component 2 is more about shoppers with a relatively good financial status and their personality are more like sensual minded or event driven types.\n",
    "- Some features with high contribution such as: \n",
    "    - SEMIO_ERL(event oriented), SEMIO_LUST (sensual minded), SEMIO_KAEM (combative attitude)\n",
    "    - FINANZ_VORSORGER financial typology (be prepared)\n",
    "    - RETOURTYP_BK_S Return type\n",
    "    - CJT_GESAMTTYP Customer-Journey-Typology\n",
    "- Some features with low contribution indicate someone who is more conservative shoppers, which those features have higher weights in terms of component 3\n",
    "\n",
    "**Component 3**\n",
    "- Component 3 is more about a conservative type of personality which is indicated by those SEMIO_* features\n",
    "- Those features with high contribution such as:\n",
    "    - SEMIO_TRADV: tradional-minded\n",
    "    - SEMIO_PFLICHT: dutiful\n",
    "    - SEMIO_KRIT: critical-minded\n",
    "- Features with low weights are about customers who are more social/culture/family minded with low finance interest"
   ]
  },
  {
   "cell_type": "markdown",
   "metadata": {},
   "source": [
    "## Step 3: Clustering\n",
    "\n",
    "### Step 3.1: Apply Clustering to General Population\n",
    "\n",
    "You've assessed and cleaned the demographics data, then scaled and transformed them. Now, it's time to see how the data clusters in the principal components space. In this substep, you will apply k-means clustering to the dataset and use the average within-cluster distances from each point to their assigned cluster's centroid to decide on a number of clusters to keep.\n",
    "\n",
    "- Use sklearn's [KMeans](http://scikit-learn.org/stable/modules/generated/sklearn.cluster.KMeans.html#sklearn.cluster.KMeans) class to perform k-means clustering on the PCA-transformed data.\n",
    "- Then, compute the average difference from each point to its assigned cluster's center. **Hint**: The KMeans object's `.score()` method might be useful here, but note that in sklearn, scores tend to be defined so that larger is better. Try applying it to a small, toy dataset, or use an internet search to help your understanding.\n",
    "- Perform the above two steps for a number of different cluster counts. You can then see how the average distance decreases with an increasing number of clusters. However, each additional cluster provides a smaller net benefit. Use this fact to select a final number of clusters in which to group the data. **Warning**: because of the large size of the dataset, it can take a long time for the algorithm to resolve. The more clusters to fit, the longer the algorithm will take. You should test for cluster counts through at least 10 clusters to get the full picture, but you shouldn't need to test for a number of clusters above about 30.\n",
    "- Once you've selected a final number of clusters to use, re-fit a KMeans instance to perform the clustering operation. Make sure that you also obtain the cluster assignments for the general demographics data, since you'll be using them in the final Step 3.3."
   ]
  },
  {
   "cell_type": "code",
   "execution_count": 520,
   "metadata": {},
   "outputs": [],
   "source": [
    "from sklearn.cluster import KMeans\n",
    "# Over a number of different cluster counts...\n",
    "\n",
    "\n",
    "    # run k-means clustering on the data and...\n",
    "    \n",
    "    \n",
    "    # compute the average within-cluster distances.\n",
    "    \n",
    "def get_kmeans_score(data, center):\n",
    "    '''\n",
    "    returns the kmeans score regarding SSE for points to centers\n",
    "    INPUT:\n",
    "        data - the dataset you want to fit kmeans to\n",
    "        center - the number of centers you want (the k value)\n",
    "    OUTPUT:\n",
    "        score - the SSE score for the kmeans model fit to the data\n",
    "    '''\n",
    "    #instantiate kmeans\n",
    "    kmeans = KMeans(n_clusters=center)\n",
    "\n",
    "    # Then fit the model to your data using the fit method\n",
    "    model = kmeans.fit(data)\n",
    "    \n",
    "    # Obtain a score related to the model fit\n",
    "    score = np.abs(model.score(data))\n",
    "    \n",
    "    return score\n",
    "\n"
   ]
  },
  {
   "cell_type": "code",
   "execution_count": 521,
   "metadata": {},
   "outputs": [
    {
     "data": {
      "image/png": "[encoded data removed]",
      "text/plain": [
       "<matplotlib.figure.Figure at 0x1a24013e48>"
      ]
     },
     "metadata": {},
     "output_type": "display_data"
    }
   ],
   "source": [
    "# Investigate the change in within-cluster distance across number of clusters.\n",
    "# HINT: Use matplotlib's plot function to visualize this relationship.\n",
    "scores = []\n",
    "centers = list(range(3,25,4))\n",
    "\n",
    "for center in centers:\n",
    "    scores.append(get_kmeans_score(x_pca2, center))\n",
    "\n",
    "plt.figure(figsize=(15,8))\n",
    "plt.plot(centers, scores, linestyle='--', marker='o', color='b');\n",
    "plt.xlabel('K');\n",
    "plt.ylabel('SSE');\n",
    "plt.title('SSE vs. K'); "
   ]
  },
  {
   "cell_type": "code",
   "execution_count": 522,
   "metadata": {},
   "outputs": [],
   "source": [
    "# Re-fit the k-means model with the selected number of clusters and obtain\n",
    "# cluster predictions for the general population demographics data.\n",
    "\n",
    "kmeans = KMeans(n_clusters=13)\n",
    "model = kmeans.fit(x_pca2)\n",
    "labels = model.predict(x_pca2)"
   ]
  },
  {
   "cell_type": "markdown",
   "metadata": {},
   "source": [
    "### Discussion 3.1: Apply Clustering to General Population\n",
    "\n",
    "\n",
    "I selected some # of clusters from 3 to max of 25 clusters,and recorded each clustering model's score and plot scree plots. The scree plot is also called elbow plot, which measures quality of each clustering model and we can see how the quality changes when different number of clusters were applied. Visually, we can see that at **13 clusters**, the quality imporves slowly and it is no longer improving susbstantially.\n",
    "\n",
    "\n",
    "\n",
    "\n"
   ]
  },
  {
   "cell_type": "markdown",
   "metadata": {},
   "source": [
    "### Step 3.2: Apply All Steps to the Customer Data\n",
    "\n",
    "Now that you have clusters and cluster centers for the general population, it's time to see how the customer data maps on to those clusters. Take care to not confuse this for re-fitting all of the models to the customer data. Instead, you're going to use the fits from the general population to clean, transform, and cluster the customer data. In the last step of the project, you will interpret how the general population fits apply to the customer data.\n",
    "\n",
    "- Don't forget when loading in the customers data, that it is semicolon (`;`) delimited.\n",
    "- Apply the same feature wrangling, selection, and engineering steps to the customer demographics using the `clean_data()` function you created earlier. (You can assume that the customer demographics data has similar meaning behind missing data patterns as the general demographics data.)\n",
    "- Use the sklearn objects from the general demographics data, and apply their transformations to the customers data. That is, you should not be using a `.fit()` or `.fit_transform()` method to re-fit the old objects, nor should you be creating new sklearn objects! Carry the data through the feature scaling, PCA, and clustering steps, obtaining cluster assignments for all of the data in the customer demographics data."
   ]
  },
  {
   "cell_type": "code",
   "execution_count": 523,
   "metadata": {},
   "outputs": [],
   "source": [
    "# Load in the customer demographics data.\n",
    "customers = pd.read_csv('Udacity_CUSTOMERS_Subset.csv', delimiter=';')"
   ]
  },
  {
   "cell_type": "code",
   "execution_count": 524,
   "metadata": {},
   "outputs": [],
   "source": [
    "# Apply preprocessing, feature transformation, and clustering from the general\n",
    "# demographics onto the customer data, obtaining cluster predictions for the\n",
    "# customer demographics data.\n",
    "customers_c = clean_data(customers)"
   ]
  },
  {
   "cell_type": "code",
   "execution_count": 368,
   "metadata": {},
   "outputs": [],
   "source": [
    "#(customers_c.isnull().sum()/len(customers_c)*100)"
   ]
  },
  {
   "cell_type": "code",
   "execution_count": 525,
   "metadata": {},
   "outputs": [],
   "source": [
    "#scaling\n",
    "from sklearn.preprocessing import StandardScaler\n",
    "scaled = StandardScaler()\n",
    "customers_scaled = scaled.fit_transform(customers_c) #numpy.ndarray\n",
    "\n",
    "#transform to data frame\n",
    "customers_scaled=pd.DataFrame(customers_scaled)\n",
    "customers_scaled.columns=customers_c.columns\n",
    "\n"
   ]
  },
  {
   "cell_type": "code",
   "execution_count": 371,
   "metadata": {},
   "outputs": [],
   "source": [
    "#customers_scaled.describe()"
   ]
  },
  {
   "cell_type": "code",
   "execution_count": 526,
   "metadata": {},
   "outputs": [],
   "source": [
    "#run pca\n",
    "cust_pca = pca2.fit_transform(customers_scaled)"
   ]
  },
  {
   "cell_type": "code",
   "execution_count": 527,
   "metadata": {},
   "outputs": [],
   "source": [
    "#clustering\n",
    "cust_labels = model.predict(cust_pca)"
   ]
  },
  {
   "cell_type": "code",
   "execution_count": 528,
   "metadata": {},
   "outputs": [],
   "source": [
    "#attach it to original set\n",
    "customers_c['Cluster'] = cust_labels.tolist()"
   ]
  },
  {
   "cell_type": "code",
   "execution_count": 529,
   "metadata": {},
   "outputs": [
    {
     "data": {
      "text/html": [
       "<div>\n",
       "<style scoped>\n",
       "    .dataframe tbody tr th:only-of-type {\n",
       "        vertical-align: middle;\n",
       "    }\n",
       "\n",
       "    .dataframe tbody tr th {\n",
       "        vertical-align: top;\n",
       "    }\n",
       "\n",
       "    .dataframe thead th {\n",
       "        text-align: right;\n",
       "    }\n",
       "</style>\n",
       "<table border=\"1\" class=\"dataframe\">\n",
       "  <thead>\n",
       "    <tr style=\"text-align: right;\">\n",
       "      <th></th>\n",
       "      <th>ALTERSKATEGORIE_GROB</th>\n",
       "      <th>FINANZ_MINIMALIST</th>\n",
       "      <th>FINANZ_VORSORGER</th>\n",
       "      <th>FINANZ_HAUSBAUER</th>\n",
       "      <th>GREEN_AVANTGARDE</th>\n",
       "      <th>LP_FAMILIE_FEIN</th>\n",
       "      <th>RETOURTYP_BK_S</th>\n",
       "      <th>SEMIO_SOZ</th>\n",
       "      <th>SEMIO_FAM</th>\n",
       "      <th>SEMIO_REL</th>\n",
       "      <th>...</th>\n",
       "      <th>CJT_GESAMTTYP_2.0</th>\n",
       "      <th>CJT_GESAMTTYP_3.0</th>\n",
       "      <th>CJT_GESAMTTYP_4.0</th>\n",
       "      <th>CJT_GESAMTTYP_5.0</th>\n",
       "      <th>CJT_GESAMTTYP_6.0</th>\n",
       "      <th>PRAEGENDE_JUGENDJAHRE_DECADE</th>\n",
       "      <th>PRAEGENDE_JUGENDJAHRE_MOVEMENT</th>\n",
       "      <th>CAMEO_INTL_2015_WEALTH</th>\n",
       "      <th>CAMEO_INTL_2015_LIFESTAGE</th>\n",
       "      <th>Cluster</th>\n",
       "    </tr>\n",
       "  </thead>\n",
       "  <tbody>\n",
       "    <tr>\n",
       "      <th>0</th>\n",
       "      <td>4.0</td>\n",
       "      <td>5.0</td>\n",
       "      <td>5.0</td>\n",
       "      <td>2.0</td>\n",
       "      <td>1</td>\n",
       "      <td>2.0</td>\n",
       "      <td>5.0</td>\n",
       "      <td>6.0</td>\n",
       "      <td>5.0</td>\n",
       "      <td>2.0</td>\n",
       "      <td>...</td>\n",
       "      <td>0</td>\n",
       "      <td>0</td>\n",
       "      <td>0</td>\n",
       "      <td>1</td>\n",
       "      <td>0</td>\n",
       "      <td>2</td>\n",
       "      <td>2</td>\n",
       "      <td>1</td>\n",
       "      <td>3</td>\n",
       "      <td>7</td>\n",
       "    </tr>\n",
       "    <tr>\n",
       "      <th>1</th>\n",
       "      <td>4.0</td>\n",
       "      <td>5.0</td>\n",
       "      <td>5.0</td>\n",
       "      <td>4.0</td>\n",
       "      <td>1</td>\n",
       "      <td>1.0</td>\n",
       "      <td>5.0</td>\n",
       "      <td>2.0</td>\n",
       "      <td>2.0</td>\n",
       "      <td>4.0</td>\n",
       "      <td>...</td>\n",
       "      <td>1</td>\n",
       "      <td>0</td>\n",
       "      <td>0</td>\n",
       "      <td>0</td>\n",
       "      <td>0</td>\n",
       "      <td>2</td>\n",
       "      <td>2</td>\n",
       "      <td>3</td>\n",
       "      <td>4</td>\n",
       "      <td>12</td>\n",
       "    </tr>\n",
       "    <tr>\n",
       "      <th>2</th>\n",
       "      <td>4.0</td>\n",
       "      <td>5.0</td>\n",
       "      <td>5.0</td>\n",
       "      <td>2.0</td>\n",
       "      <td>0</td>\n",
       "      <td>0.0</td>\n",
       "      <td>3.0</td>\n",
       "      <td>6.0</td>\n",
       "      <td>5.0</td>\n",
       "      <td>3.0</td>\n",
       "      <td>...</td>\n",
       "      <td>1</td>\n",
       "      <td>0</td>\n",
       "      <td>0</td>\n",
       "      <td>0</td>\n",
       "      <td>0</td>\n",
       "      <td>2</td>\n",
       "      <td>2</td>\n",
       "      <td>2</td>\n",
       "      <td>4</td>\n",
       "      <td>10</td>\n",
       "    </tr>\n",
       "    <tr>\n",
       "      <th>3</th>\n",
       "      <td>3.0</td>\n",
       "      <td>3.0</td>\n",
       "      <td>4.0</td>\n",
       "      <td>2.0</td>\n",
       "      <td>0</td>\n",
       "      <td>10.0</td>\n",
       "      <td>5.0</td>\n",
       "      <td>4.0</td>\n",
       "      <td>5.0</td>\n",
       "      <td>4.0</td>\n",
       "      <td>...</td>\n",
       "      <td>0</td>\n",
       "      <td>0</td>\n",
       "      <td>0</td>\n",
       "      <td>0</td>\n",
       "      <td>1</td>\n",
       "      <td>4</td>\n",
       "      <td>1</td>\n",
       "      <td>4</td>\n",
       "      <td>1</td>\n",
       "      <td>1</td>\n",
       "    </tr>\n",
       "    <tr>\n",
       "      <th>4</th>\n",
       "      <td>3.0</td>\n",
       "      <td>5.0</td>\n",
       "      <td>5.0</td>\n",
       "      <td>3.0</td>\n",
       "      <td>1</td>\n",
       "      <td>2.0</td>\n",
       "      <td>3.0</td>\n",
       "      <td>6.0</td>\n",
       "      <td>4.0</td>\n",
       "      <td>4.0</td>\n",
       "      <td>...</td>\n",
       "      <td>0</td>\n",
       "      <td>0</td>\n",
       "      <td>1</td>\n",
       "      <td>0</td>\n",
       "      <td>0</td>\n",
       "      <td>2</td>\n",
       "      <td>2</td>\n",
       "      <td>3</td>\n",
       "      <td>4</td>\n",
       "      <td>5</td>\n",
       "    </tr>\n",
       "  </tbody>\n",
       "</table>\n",
       "<p>5 rows × 71 columns</p>\n",
       "</div>"
      ],
      "text/plain": [
       "   ALTERSKATEGORIE_GROB  FINANZ_MINIMALIST  FINANZ_VORSORGER  \\\n",
       "0                   4.0                5.0               5.0   \n",
       "1                   4.0                5.0               5.0   \n",
       "2                   4.0                5.0               5.0   \n",
       "3                   3.0                3.0               4.0   \n",
       "4                   3.0                5.0               5.0   \n",
       "\n",
       "   FINANZ_HAUSBAUER  GREEN_AVANTGARDE  LP_FAMILIE_FEIN  RETOURTYP_BK_S  \\\n",
       "0               2.0                 1              2.0             5.0   \n",
       "1               4.0                 1              1.0             5.0   \n",
       "2               2.0                 0              0.0             3.0   \n",
       "3               2.0                 0             10.0             5.0   \n",
       "4               3.0                 1              2.0             3.0   \n",
       "\n",
       "   SEMIO_SOZ  SEMIO_FAM  SEMIO_REL   ...     CJT_GESAMTTYP_2.0  \\\n",
       "0        6.0        5.0        2.0   ...                     0   \n",
       "1        2.0        2.0        4.0   ...                     1   \n",
       "2        6.0        5.0        3.0   ...                     1   \n",
       "3        4.0        5.0        4.0   ...                     0   \n",
       "4        6.0        4.0        4.0   ...                     0   \n",
       "\n",
       "   CJT_GESAMTTYP_3.0  CJT_GESAMTTYP_4.0  CJT_GESAMTTYP_5.0  CJT_GESAMTTYP_6.0  \\\n",
       "0                  0                  0                  1                  0   \n",
       "1                  0                  0                  0                  0   \n",
       "2                  0                  0                  0                  0   \n",
       "3                  0                  0                  0                  1   \n",
       "4                  0                  1                  0                  0   \n",
       "\n",
       "   PRAEGENDE_JUGENDJAHRE_DECADE  PRAEGENDE_JUGENDJAHRE_MOVEMENT  \\\n",
       "0                             2                               2   \n",
       "1                             2                               2   \n",
       "2                             2                               2   \n",
       "3                             4                               1   \n",
       "4                             2                               2   \n",
       "\n",
       "   CAMEO_INTL_2015_WEALTH  CAMEO_INTL_2015_LIFESTAGE  Cluster  \n",
       "0                       1                          3        7  \n",
       "1                       3                          4       12  \n",
       "2                       2                          4       10  \n",
       "3                       4                          1        1  \n",
       "4                       3                          4        5  \n",
       "\n",
       "[5 rows x 71 columns]"
      ]
     },
     "execution_count": 529,
     "metadata": {},
     "output_type": "execute_result"
    }
   ],
   "source": [
    "customers_c.head()"
   ]
  },
  {
   "cell_type": "code",
   "execution_count": 530,
   "metadata": {},
   "outputs": [
    {
     "data": {
      "text/plain": [
       "141720"
      ]
     },
     "execution_count": 530,
     "metadata": {},
     "output_type": "execute_result"
    }
   ],
   "source": [
    "len(cust_labels)"
   ]
  },
  {
   "cell_type": "markdown",
   "metadata": {},
   "source": [
    "### Step 3.3: Compare Customer Data to Demographics Data\n",
    "\n",
    "At this point, you have clustered data based on demographics of the general population of Germany, and seen how the customer data for a mail-order sales company maps onto those demographic clusters. In this final substep, you will compare the two cluster distributions to see where the strongest customer base for the company is.\n",
    "\n",
    "Consider the proportion of persons in each cluster for the general population, and the proportions for the customers. If we think the company's customer base to be universal, then the cluster assignment proportions should be fairly similar between the two. If there are only particular segments of the population that are interested in the company's products, then we should see a mismatch from one to the other. If there is a higher proportion of persons in a cluster for the customer data compared to the general population (e.g. 5% of persons are assigned to a cluster for the general population, but 15% of the customer data is closest to that cluster's centroid) then that suggests the people in that cluster to be a target audience for the company. On the other hand, the proportion of the data in a cluster being larger in the general population than the customer data (e.g. only 2% of customers closest to a population centroid that captures 6% of the data) suggests that group of persons to be outside of the target demographics.\n",
    "\n",
    "Take a look at the following points in this step:\n",
    "\n",
    "- Compute the proportion of data points in each cluster for the general population and the customer data. Visualizations will be useful here: both for the individual dataset proportions, but also to visualize the ratios in cluster representation between groups. Seaborn's [`countplot()`](https://seaborn.pydata.org/generated/seaborn.countplot.html) or [`barplot()`](https://seaborn.pydata.org/generated/seaborn.barplot.html) function could be handy.\n",
    "  - Recall the analysis you performed in step 1.1.3 of the project, where you separated out certain data points from the dataset if they had more than a specified threshold of missing values. If you found that this group was qualitatively different from the main bulk of the data, you should treat this as an additional data cluster in this analysis. Make sure that you account for the number of data points in this subset, for both the general population and customer datasets, when making your computations!\n",
    "- Which cluster or clusters are overrepresented in the customer dataset compared to the general population? Select at least one such cluster and infer what kind of people might be represented by that cluster. Use the principal component interpretations from step 2.3 or look at additional components to help you make this inference. Alternatively, you can use the `.inverse_transform()` method of the PCA and StandardScaler objects to transform centroids back to the original data space and interpret the retrieved values directly.\n",
    "- Perform a similar investigation for the underrepresented clusters. Which cluster or clusters are underrepresented in the customer dataset compared to the general population, and what kinds of people are typified by these clusters?"
   ]
  },
  {
   "cell_type": "code",
   "execution_count": 531,
   "metadata": {},
   "outputs": [],
   "source": [
    "# Compare the proportion of data in each cluster for the customer data to the\n",
    "# proportion of data in each cluster for the general population.\n",
    "\n",
    "df = pd.DataFrame(cust_labels)\n",
    "df.columns = ['Cluster_Nbr']\n",
    "cust_counts = df.groupby(['Cluster_Nbr']).size().reset_index(name='counts')\n",
    "cust_counts['customer_porportion'] = 100*cust_counts['counts']/df.shape[0]"
   ]
  },
  {
   "cell_type": "code",
   "execution_count": 532,
   "metadata": {},
   "outputs": [],
   "source": [
    "#general porportion\n",
    "df_g = pd.DataFrame(labels)\n",
    "df_g.columns = ['Cluster_Nbr']\n",
    "cust_counts_g = df_g.groupby(['Cluster_Nbr']).size().reset_index(name='counts')\n",
    "cust_counts_g['general_porportion'] = 100*cust_counts_g['counts']/df_g.shape[0]"
   ]
  },
  {
   "cell_type": "code",
   "execution_count": 533,
   "metadata": {},
   "outputs": [],
   "source": [
    "df_master = pd.concat([cust_counts, cust_counts_g], axis=1)"
   ]
  },
  {
   "cell_type": "code",
   "execution_count": 534,
   "metadata": {},
   "outputs": [
    {
     "data": {
      "text/html": [
       "<div>\n",
       "<style scoped>\n",
       "    .dataframe tbody tr th:only-of-type {\n",
       "        vertical-align: middle;\n",
       "    }\n",
       "\n",
       "    .dataframe tbody tr th {\n",
       "        vertical-align: top;\n",
       "    }\n",
       "\n",
       "    .dataframe thead th {\n",
       "        text-align: right;\n",
       "    }\n",
       "</style>\n",
       "<table border=\"1\" class=\"dataframe\">\n",
       "  <thead>\n",
       "    <tr style=\"text-align: right;\">\n",
       "      <th></th>\n",
       "      <th>Cluster_Nbr</th>\n",
       "      <th>counts</th>\n",
       "      <th>customer_porportion</th>\n",
       "      <th>Cluster_Nbr</th>\n",
       "      <th>counts</th>\n",
       "      <th>general_porportion</th>\n",
       "    </tr>\n",
       "  </thead>\n",
       "  <tbody>\n",
       "    <tr>\n",
       "      <th>0</th>\n",
       "      <td>0</td>\n",
       "      <td>14456</td>\n",
       "      <td>10.200395</td>\n",
       "      <td>0</td>\n",
       "      <td>69726</td>\n",
       "      <td>8.737101</td>\n",
       "    </tr>\n",
       "    <tr>\n",
       "      <th>1</th>\n",
       "      <td>1</td>\n",
       "      <td>8123</td>\n",
       "      <td>5.731725</td>\n",
       "      <td>1</td>\n",
       "      <td>80797</td>\n",
       "      <td>10.124366</td>\n",
       "    </tr>\n",
       "    <tr>\n",
       "      <th>2</th>\n",
       "      <td>2</td>\n",
       "      <td>1469</td>\n",
       "      <td>1.036551</td>\n",
       "      <td>2</td>\n",
       "      <td>27916</td>\n",
       "      <td>3.498048</td>\n",
       "    </tr>\n",
       "    <tr>\n",
       "      <th>3</th>\n",
       "      <td>3</td>\n",
       "      <td>18425</td>\n",
       "      <td>13.000988</td>\n",
       "      <td>3</td>\n",
       "      <td>94950</td>\n",
       "      <td>11.897825</td>\n",
       "    </tr>\n",
       "    <tr>\n",
       "      <th>4</th>\n",
       "      <td>4</td>\n",
       "      <td>9037</td>\n",
       "      <td>6.376658</td>\n",
       "      <td>4</td>\n",
       "      <td>54276</td>\n",
       "      <td>6.801120</td>\n",
       "    </tr>\n",
       "    <tr>\n",
       "      <th>5</th>\n",
       "      <td>5</td>\n",
       "      <td>15787</td>\n",
       "      <td>11.139571</td>\n",
       "      <td>5</td>\n",
       "      <td>77051</td>\n",
       "      <td>9.654969</td>\n",
       "    </tr>\n",
       "    <tr>\n",
       "      <th>6</th>\n",
       "      <td>6</td>\n",
       "      <td>10337</td>\n",
       "      <td>7.293960</td>\n",
       "      <td>6</td>\n",
       "      <td>67770</td>\n",
       "      <td>8.492002</td>\n",
       "    </tr>\n",
       "    <tr>\n",
       "      <th>7</th>\n",
       "      <td>7</td>\n",
       "      <td>12266</td>\n",
       "      <td>8.655095</td>\n",
       "      <td>7</td>\n",
       "      <td>59943</td>\n",
       "      <td>7.511231</td>\n",
       "    </tr>\n",
       "    <tr>\n",
       "      <th>8</th>\n",
       "      <td>8</td>\n",
       "      <td>12735</td>\n",
       "      <td>8.986029</td>\n",
       "      <td>8</td>\n",
       "      <td>57597</td>\n",
       "      <td>7.217262</td>\n",
       "    </tr>\n",
       "    <tr>\n",
       "      <th>9</th>\n",
       "      <td>9</td>\n",
       "      <td>15511</td>\n",
       "      <td>10.944821</td>\n",
       "      <td>9</td>\n",
       "      <td>56216</td>\n",
       "      <td>7.044214</td>\n",
       "    </tr>\n",
       "    <tr>\n",
       "      <th>10</th>\n",
       "      <td>10</td>\n",
       "      <td>10119</td>\n",
       "      <td>7.140135</td>\n",
       "      <td>10</td>\n",
       "      <td>53722</td>\n",
       "      <td>6.731701</td>\n",
       "    </tr>\n",
       "    <tr>\n",
       "      <th>11</th>\n",
       "      <td>11</td>\n",
       "      <td>6778</td>\n",
       "      <td>4.782670</td>\n",
       "      <td>11</td>\n",
       "      <td>40541</td>\n",
       "      <td>5.080039</td>\n",
       "    </tr>\n",
       "    <tr>\n",
       "      <th>12</th>\n",
       "      <td>12</td>\n",
       "      <td>6677</td>\n",
       "      <td>4.711403</td>\n",
       "      <td>12</td>\n",
       "      <td>57540</td>\n",
       "      <td>7.210120</td>\n",
       "    </tr>\n",
       "  </tbody>\n",
       "</table>\n",
       "</div>"
      ],
      "text/plain": [
       "    Cluster_Nbr  counts  customer_porportion  Cluster_Nbr  counts  \\\n",
       "0             0   14456            10.200395            0   69726   \n",
       "1             1    8123             5.731725            1   80797   \n",
       "2             2    1469             1.036551            2   27916   \n",
       "3             3   18425            13.000988            3   94950   \n",
       "4             4    9037             6.376658            4   54276   \n",
       "5             5   15787            11.139571            5   77051   \n",
       "6             6   10337             7.293960            6   67770   \n",
       "7             7   12266             8.655095            7   59943   \n",
       "8             8   12735             8.986029            8   57597   \n",
       "9             9   15511            10.944821            9   56216   \n",
       "10           10   10119             7.140135           10   53722   \n",
       "11           11    6778             4.782670           11   40541   \n",
       "12           12    6677             4.711403           12   57540   \n",
       "\n",
       "    general_porportion  \n",
       "0             8.737101  \n",
       "1            10.124366  \n",
       "2             3.498048  \n",
       "3            11.897825  \n",
       "4             6.801120  \n",
       "5             9.654969  \n",
       "6             8.492002  \n",
       "7             7.511231  \n",
       "8             7.217262  \n",
       "9             7.044214  \n",
       "10            6.731701  \n",
       "11            5.080039  \n",
       "12            7.210120  "
      ]
     },
     "execution_count": 534,
     "metadata": {},
     "output_type": "execute_result"
    }
   ],
   "source": [
    "df_master"
   ]
  },
  {
   "cell_type": "code",
   "execution_count": 535,
   "metadata": {},
   "outputs": [
    {
     "name": "stderr",
     "output_type": "stream",
     "text": [
      "/anaconda3/lib/python3.6/site-packages/pandas/plotting/_core.py:1716: UserWarning: Pandas doesn't allow columns to be created via a new attribute name - see https://pandas.pydata.org/pandas-docs/stable/indexing.html#attribute-access\n",
      "  series.name = label\n"
     ]
    },
    {
     "data": {
      "image/png": "[encoded data removed]",
      "text/plain": [
       "<matplotlib.figure.Figure at 0x1a1e2e4eb8>"
      ]
     },
     "metadata": {},
     "output_type": "display_data"
    }
   ],
   "source": [
    "\n",
    "df_master.plot(x='Cluster_Nbr', y = ['customer_porportion', 'general_porportion'], kind='bar', figsize=(10,7))\n",
    "plt.ylabel('proportion in each cluster')\n",
    "plt.show()"
   ]
  },
  {
   "cell_type": "code",
   "execution_count": 541,
   "metadata": {},
   "outputs": [],
   "source": [
    "revers =pd.DataFrame(scaled.inverse_transform(pca2.inverse_transform(model.cluster_centers_)))\n",
    "revers.columns=azdias_unpick.columns"
   ]
  },
  {
   "cell_type": "code",
   "execution_count": 581,
   "metadata": {},
   "outputs": [
    {
     "data": {
      "text/html": [
       "<div>\n",
       "<style scoped>\n",
       "    .dataframe tbody tr th:only-of-type {\n",
       "        vertical-align: middle;\n",
       "    }\n",
       "\n",
       "    .dataframe tbody tr th {\n",
       "        vertical-align: top;\n",
       "    }\n",
       "\n",
       "    .dataframe thead th {\n",
       "        text-align: right;\n",
       "    }\n",
       "</style>\n",
       "<table border=\"1\" class=\"dataframe\">\n",
       "  <thead>\n",
       "    <tr style=\"text-align: right;\">\n",
       "      <th></th>\n",
       "      <th>ALTERSKATEGORIE_GROB</th>\n",
       "      <th>FINANZ_MINIMALIST</th>\n",
       "      <th>FINANZ_VORSORGER</th>\n",
       "      <th>FINANZ_HAUSBAUER</th>\n",
       "      <th>GREEN_AVANTGARDE</th>\n",
       "      <th>LP_FAMILIE_FEIN</th>\n",
       "      <th>RETOURTYP_BK_S</th>\n",
       "      <th>SEMIO_SOZ</th>\n",
       "      <th>SEMIO_FAM</th>\n",
       "      <th>SEMIO_REL</th>\n",
       "      <th>...</th>\n",
       "      <th>LP_FAMILIE_GROB_5.0</th>\n",
       "      <th>CJT_GESAMTTYP_2.0</th>\n",
       "      <th>CJT_GESAMTTYP_3.0</th>\n",
       "      <th>CJT_GESAMTTYP_4.0</th>\n",
       "      <th>CJT_GESAMTTYP_5.0</th>\n",
       "      <th>CJT_GESAMTTYP_6.0</th>\n",
       "      <th>PRAEGENDE_JUGENDJAHRE_DECADE</th>\n",
       "      <th>PRAEGENDE_JUGENDJAHRE_MOVEMENT</th>\n",
       "      <th>CAMEO_INTL_2015_WEALTH</th>\n",
       "      <th>CAMEO_INTL_2015_LIFESTAGE</th>\n",
       "    </tr>\n",
       "  </thead>\n",
       "  <tbody>\n",
       "    <tr>\n",
       "      <th>count</th>\n",
       "      <td>13.000000</td>\n",
       "      <td>13.000000</td>\n",
       "      <td>13.000000</td>\n",
       "      <td>13.000000</td>\n",
       "      <td>13.000000</td>\n",
       "      <td>13.000000</td>\n",
       "      <td>13.000000</td>\n",
       "      <td>13.000000</td>\n",
       "      <td>13.000000</td>\n",
       "      <td>13.000000</td>\n",
       "      <td>...</td>\n",
       "      <td>13.000000</td>\n",
       "      <td>13.000000</td>\n",
       "      <td>13.000000</td>\n",
       "      <td>13.000000</td>\n",
       "      <td>13.000000</td>\n",
       "      <td>13.000000</td>\n",
       "      <td>13.000000</td>\n",
       "      <td>13.000000</td>\n",
       "      <td>13.000000</td>\n",
       "      <td>13.000000</td>\n",
       "    </tr>\n",
       "    <tr>\n",
       "      <th>mean</th>\n",
       "      <td>3.621193</td>\n",
       "      <td>4.287869</td>\n",
       "      <td>4.650673</td>\n",
       "      <td>2.942856</td>\n",
       "      <td>0.464662</td>\n",
       "      <td>5.214544</td>\n",
       "      <td>3.904727</td>\n",
       "      <td>4.550752</td>\n",
       "      <td>4.171642</td>\n",
       "      <td>3.587396</td>\n",
       "      <td>...</td>\n",
       "      <td>0.414809</td>\n",
       "      <td>0.313929</td>\n",
       "      <td>0.165334</td>\n",
       "      <td>0.162485</td>\n",
       "      <td>0.130810</td>\n",
       "      <td>0.062459</td>\n",
       "      <td>2.935517</td>\n",
       "      <td>1.548817</td>\n",
       "      <td>2.597877</td>\n",
       "      <td>3.367138</td>\n",
       "    </tr>\n",
       "    <tr>\n",
       "      <th>std</th>\n",
       "      <td>0.306142</td>\n",
       "      <td>0.686461</td>\n",
       "      <td>0.362164</td>\n",
       "      <td>0.822720</td>\n",
       "      <td>0.307867</td>\n",
       "      <td>3.165317</td>\n",
       "      <td>0.498571</td>\n",
       "      <td>0.595275</td>\n",
       "      <td>0.874823</td>\n",
       "      <td>0.543370</td>\n",
       "      <td>...</td>\n",
       "      <td>0.321223</td>\n",
       "      <td>0.211415</td>\n",
       "      <td>0.107587</td>\n",
       "      <td>0.110523</td>\n",
       "      <td>0.089476</td>\n",
       "      <td>0.058838</td>\n",
       "      <td>0.780202</td>\n",
       "      <td>0.268688</td>\n",
       "      <td>0.905676</td>\n",
       "      <td>0.466858</td>\n",
       "    </tr>\n",
       "    <tr>\n",
       "      <th>min</th>\n",
       "      <td>3.180866</td>\n",
       "      <td>3.122810</td>\n",
       "      <td>4.170722</td>\n",
       "      <td>1.884727</td>\n",
       "      <td>-0.013029</td>\n",
       "      <td>-0.574209</td>\n",
       "      <td>2.936688</td>\n",
       "      <td>3.551683</td>\n",
       "      <td>3.016082</td>\n",
       "      <td>2.640061</td>\n",
       "      <td>...</td>\n",
       "      <td>-0.066765</td>\n",
       "      <td>0.047908</td>\n",
       "      <td>-0.035309</td>\n",
       "      <td>0.017891</td>\n",
       "      <td>0.000885</td>\n",
       "      <td>-0.040148</td>\n",
       "      <td>1.398305</td>\n",
       "      <td>1.127956</td>\n",
       "      <td>1.586647</td>\n",
       "      <td>2.423734</td>\n",
       "    </tr>\n",
       "    <tr>\n",
       "      <th>25%</th>\n",
       "      <td>3.386062</td>\n",
       "      <td>3.873771</td>\n",
       "      <td>4.385731</td>\n",
       "      <td>2.027949</td>\n",
       "      <td>0.283732</td>\n",
       "      <td>2.650958</td>\n",
       "      <td>3.617906</td>\n",
       "      <td>3.934084</td>\n",
       "      <td>3.227443</td>\n",
       "      <td>3.363866</td>\n",
       "      <td>...</td>\n",
       "      <td>0.236795</td>\n",
       "      <td>0.179569</td>\n",
       "      <td>0.106392</td>\n",
       "      <td>0.042079</td>\n",
       "      <td>0.112894</td>\n",
       "      <td>0.030018</td>\n",
       "      <td>2.918212</td>\n",
       "      <td>1.434497</td>\n",
       "      <td>1.815459</td>\n",
       "      <td>3.132242</td>\n",
       "    </tr>\n",
       "    <tr>\n",
       "      <th>50%</th>\n",
       "      <td>3.658764</td>\n",
       "      <td>4.241049</td>\n",
       "      <td>4.571751</td>\n",
       "      <td>3.074862</td>\n",
       "      <td>0.509502</td>\n",
       "      <td>5.425315</td>\n",
       "      <td>3.972405</td>\n",
       "      <td>4.806163</td>\n",
       "      <td>4.554930</td>\n",
       "      <td>3.613258</td>\n",
       "      <td>...</td>\n",
       "      <td>0.352349</td>\n",
       "      <td>0.312084</td>\n",
       "      <td>0.186364</td>\n",
       "      <td>0.176192</td>\n",
       "      <td>0.127753</td>\n",
       "      <td>0.069918</td>\n",
       "      <td>2.997348</td>\n",
       "      <td>1.553684</td>\n",
       "      <td>2.167131</td>\n",
       "      <td>3.270136</td>\n",
       "    </tr>\n",
       "    <tr>\n",
       "      <th>75%</th>\n",
       "      <td>3.791496</td>\n",
       "      <td>4.859225</td>\n",
       "      <td>4.786735</td>\n",
       "      <td>3.460643</td>\n",
       "      <td>0.672307</td>\n",
       "      <td>7.059971</td>\n",
       "      <td>4.227516</td>\n",
       "      <td>4.941827</td>\n",
       "      <td>4.770356</td>\n",
       "      <td>3.808359</td>\n",
       "      <td>...</td>\n",
       "      <td>0.554501</td>\n",
       "      <td>0.364561</td>\n",
       "      <td>0.236934</td>\n",
       "      <td>0.266053</td>\n",
       "      <td>0.150815</td>\n",
       "      <td>0.109321</td>\n",
       "      <td>3.590860</td>\n",
       "      <td>1.716992</td>\n",
       "      <td>3.403458</td>\n",
       "      <td>3.842438</td>\n",
       "    </tr>\n",
       "    <tr>\n",
       "      <th>max</th>\n",
       "      <td>4.147739</td>\n",
       "      <td>5.146911</td>\n",
       "      <td>5.310900</td>\n",
       "      <td>4.077649</td>\n",
       "      <td>1.073921</td>\n",
       "      <td>11.411239</td>\n",
       "      <td>4.640179</td>\n",
       "      <td>5.394608</td>\n",
       "      <td>5.457310</td>\n",
       "      <td>4.382591</td>\n",
       "      <td>...</td>\n",
       "      <td>1.091340</td>\n",
       "      <td>0.741790</td>\n",
       "      <td>0.315392</td>\n",
       "      <td>0.309461</td>\n",
       "      <td>0.377025</td>\n",
       "      <td>0.158804</td>\n",
       "      <td>3.896640</td>\n",
       "      <td>2.057927</td>\n",
       "      <td>3.894784</td>\n",
       "      <td>3.938367</td>\n",
       "    </tr>\n",
       "  </tbody>\n",
       "</table>\n",
       "<p>8 rows × 70 columns</p>\n",
       "</div>"
      ],
      "text/plain": [
       "       ALTERSKATEGORIE_GROB  FINANZ_MINIMALIST  FINANZ_VORSORGER  \\\n",
       "count             13.000000          13.000000         13.000000   \n",
       "mean               3.621193           4.287869          4.650673   \n",
       "std                0.306142           0.686461          0.362164   \n",
       "min                3.180866           3.122810          4.170722   \n",
       "25%                3.386062           3.873771          4.385731   \n",
       "50%                3.658764           4.241049          4.571751   \n",
       "75%                3.791496           4.859225          4.786735   \n",
       "max                4.147739           5.146911          5.310900   \n",
       "\n",
       "       FINANZ_HAUSBAUER  GREEN_AVANTGARDE  LP_FAMILIE_FEIN  RETOURTYP_BK_S  \\\n",
       "count         13.000000         13.000000        13.000000       13.000000   \n",
       "mean           2.942856          0.464662         5.214544        3.904727   \n",
       "std            0.822720          0.307867         3.165317        0.498571   \n",
       "min            1.884727         -0.013029        -0.574209        2.936688   \n",
       "25%            2.027949          0.283732         2.650958        3.617906   \n",
       "50%            3.074862          0.509502         5.425315        3.972405   \n",
       "75%            3.460643          0.672307         7.059971        4.227516   \n",
       "max            4.077649          1.073921        11.411239        4.640179   \n",
       "\n",
       "       SEMIO_SOZ  SEMIO_FAM  SEMIO_REL            ...              \\\n",
       "count  13.000000  13.000000  13.000000            ...               \n",
       "mean    4.550752   4.171642   3.587396            ...               \n",
       "std     0.595275   0.874823   0.543370            ...               \n",
       "min     3.551683   3.016082   2.640061            ...               \n",
       "25%     3.934084   3.227443   3.363866            ...               \n",
       "50%     4.806163   4.554930   3.613258            ...               \n",
       "75%     4.941827   4.770356   3.808359            ...               \n",
       "max     5.394608   5.457310   4.382591            ...               \n",
       "\n",
       "       LP_FAMILIE_GROB_5.0  CJT_GESAMTTYP_2.0  CJT_GESAMTTYP_3.0  \\\n",
       "count            13.000000          13.000000          13.000000   \n",
       "mean              0.414809           0.313929           0.165334   \n",
       "std               0.321223           0.211415           0.107587   \n",
       "min              -0.066765           0.047908          -0.035309   \n",
       "25%               0.236795           0.179569           0.106392   \n",
       "50%               0.352349           0.312084           0.186364   \n",
       "75%               0.554501           0.364561           0.236934   \n",
       "max               1.091340           0.741790           0.315392   \n",
       "\n",
       "       CJT_GESAMTTYP_4.0  CJT_GESAMTTYP_5.0  CJT_GESAMTTYP_6.0  \\\n",
       "count          13.000000          13.000000          13.000000   \n",
       "mean            0.162485           0.130810           0.062459   \n",
       "std             0.110523           0.089476           0.058838   \n",
       "min             0.017891           0.000885          -0.040148   \n",
       "25%             0.042079           0.112894           0.030018   \n",
       "50%             0.176192           0.127753           0.069918   \n",
       "75%             0.266053           0.150815           0.109321   \n",
       "max             0.309461           0.377025           0.158804   \n",
       "\n",
       "       PRAEGENDE_JUGENDJAHRE_DECADE  PRAEGENDE_JUGENDJAHRE_MOVEMENT  \\\n",
       "count                     13.000000                       13.000000   \n",
       "mean                       2.935517                        1.548817   \n",
       "std                        0.780202                        0.268688   \n",
       "min                        1.398305                        1.127956   \n",
       "25%                        2.918212                        1.434497   \n",
       "50%                        2.997348                        1.553684   \n",
       "75%                        3.590860                        1.716992   \n",
       "max                        3.896640                        2.057927   \n",
       "\n",
       "       CAMEO_INTL_2015_WEALTH  CAMEO_INTL_2015_LIFESTAGE  \n",
       "count               13.000000                  13.000000  \n",
       "mean                 2.597877                   3.367138  \n",
       "std                  0.905676                   0.466858  \n",
       "min                  1.586647                   2.423734  \n",
       "25%                  1.815459                   3.132242  \n",
       "50%                  2.167131                   3.270136  \n",
       "75%                  3.403458                   3.842438  \n",
       "max                  3.894784                   3.938367  \n",
       "\n",
       "[8 rows x 70 columns]"
      ]
     },
     "execution_count": 581,
     "metadata": {},
     "output_type": "execute_result"
    }
   ],
   "source": [
    "revers.describe()"
   ]
  },
  {
   "cell_type": "code",
   "execution_count": 543,
   "metadata": {},
   "outputs": [],
   "source": [
    "revers_t = revers.T"
   ]
  },
  {
   "cell_type": "code",
   "execution_count": 549,
   "metadata": {},
   "outputs": [
    {
     "data": {
      "text/plain": [
       "13"
      ]
     },
     "execution_count": 549,
     "metadata": {},
     "output_type": "execute_result"
    }
   ],
   "source": [
    "len(revers_t.columns)"
   ]
  },
  {
   "cell_type": "code",
   "execution_count": 550,
   "metadata": {},
   "outputs": [],
   "source": [
    "revers_t.columns = ['Cluster{}'.format(i) for i in range(13)]"
   ]
  },
  {
   "cell_type": "code",
   "execution_count": 582,
   "metadata": {},
   "outputs": [
    {
     "data": {
      "text/plain": [
       "<matplotlib.axes._subplots.AxesSubplot at 0x1a22112d68>"
      ]
     },
     "execution_count": 582,
     "metadata": {},
     "output_type": "execute_result"
    },
    {
     "data": {
      "image/png": "[encoded data removed]",
      "text/plain": [
       "<matplotlib.figure.Figure at 0x1a22112128>"
      ]
     },
     "metadata": {},
     "output_type": "display_data"
    }
   ],
   "source": [
    "sns.countplot(revers['ALTERSKATEGORIE_GROB'], color='#33A1C9')"
   ]
  },
  {
   "cell_type": "code",
   "execution_count": 575,
   "metadata": {},
   "outputs": [
    {
     "data": {
      "text/html": [
       "<div>\n",
       "<style scoped>\n",
       "    .dataframe tbody tr th:only-of-type {\n",
       "        vertical-align: middle;\n",
       "    }\n",
       "\n",
       "    .dataframe tbody tr th {\n",
       "        vertical-align: top;\n",
       "    }\n",
       "\n",
       "    .dataframe thead th {\n",
       "        text-align: right;\n",
       "    }\n",
       "</style>\n",
       "<table border=\"1\" class=\"dataframe\">\n",
       "  <thead>\n",
       "    <tr style=\"text-align: right;\">\n",
       "      <th></th>\n",
       "      <th>Cluster0</th>\n",
       "      <th>Cluster1</th>\n",
       "      <th>Cluster2</th>\n",
       "      <th>Cluster3</th>\n",
       "      <th>Cluster4</th>\n",
       "      <th>Cluster5</th>\n",
       "      <th>Cluster6</th>\n",
       "      <th>Cluster7</th>\n",
       "      <th>Cluster8</th>\n",
       "      <th>Cluster9</th>\n",
       "      <th>Cluster10</th>\n",
       "      <th>Cluster11</th>\n",
       "      <th>Cluster12</th>\n",
       "    </tr>\n",
       "  </thead>\n",
       "  <tbody>\n",
       "    <tr>\n",
       "      <th>count</th>\n",
       "      <td>70.000000</td>\n",
       "      <td>70.000000</td>\n",
       "      <td>70.000000</td>\n",
       "      <td>70.000000</td>\n",
       "      <td>70.000000</td>\n",
       "      <td>70.000000</td>\n",
       "      <td>70.000000</td>\n",
       "      <td>70.000000</td>\n",
       "      <td>70.000000</td>\n",
       "      <td>70.000000</td>\n",
       "      <td>70.000000</td>\n",
       "      <td>70.000000</td>\n",
       "      <td>70.000000</td>\n",
       "    </tr>\n",
       "    <tr>\n",
       "      <th>mean</th>\n",
       "      <td>42.138531</td>\n",
       "      <td>40.800102</td>\n",
       "      <td>37.940626</td>\n",
       "      <td>40.634716</td>\n",
       "      <td>37.513094</td>\n",
       "      <td>40.877414</td>\n",
       "      <td>39.939621</td>\n",
       "      <td>41.262101</td>\n",
       "      <td>42.641644</td>\n",
       "      <td>41.821219</td>\n",
       "      <td>43.071038</td>\n",
       "      <td>42.554210</td>\n",
       "      <td>40.202792</td>\n",
       "    </tr>\n",
       "    <tr>\n",
       "      <th>std</th>\n",
       "      <td>253.280995</td>\n",
       "      <td>249.303135</td>\n",
       "      <td>243.386531</td>\n",
       "      <td>249.156413</td>\n",
       "      <td>242.135323</td>\n",
       "      <td>249.811701</td>\n",
       "      <td>247.286132</td>\n",
       "      <td>251.228957</td>\n",
       "      <td>255.349941</td>\n",
       "      <td>252.125144</td>\n",
       "      <td>256.317170</td>\n",
       "      <td>253.955144</td>\n",
       "      <td>248.259447</td>\n",
       "    </tr>\n",
       "    <tr>\n",
       "      <th>min</th>\n",
       "      <td>-0.015552</td>\n",
       "      <td>-0.046462</td>\n",
       "      <td>-0.363220</td>\n",
       "      <td>-2.047546</td>\n",
       "      <td>0.003703</td>\n",
       "      <td>-0.036708</td>\n",
       "      <td>-0.014169</td>\n",
       "      <td>-0.673777</td>\n",
       "      <td>-0.161973</td>\n",
       "      <td>-0.186264</td>\n",
       "      <td>-0.017213</td>\n",
       "      <td>-0.013029</td>\n",
       "      <td>-0.574209</td>\n",
       "    </tr>\n",
       "    <tr>\n",
       "      <th>25%</th>\n",
       "      <td>0.687165</td>\n",
       "      <td>1.121553</td>\n",
       "      <td>0.674045</td>\n",
       "      <td>0.959077</td>\n",
       "      <td>0.803916</td>\n",
       "      <td>1.112755</td>\n",
       "      <td>0.899555</td>\n",
       "      <td>0.693772</td>\n",
       "      <td>0.672668</td>\n",
       "      <td>0.784532</td>\n",
       "      <td>0.583789</td>\n",
       "      <td>0.992996</td>\n",
       "      <td>0.769409</td>\n",
       "    </tr>\n",
       "    <tr>\n",
       "      <th>50%</th>\n",
       "      <td>3.264121</td>\n",
       "      <td>3.378745</td>\n",
       "      <td>2.903909</td>\n",
       "      <td>3.368757</td>\n",
       "      <td>3.244704</td>\n",
       "      <td>3.226300</td>\n",
       "      <td>3.180928</td>\n",
       "      <td>2.892305</td>\n",
       "      <td>2.673495</td>\n",
       "      <td>2.967778</td>\n",
       "      <td>3.050793</td>\n",
       "      <td>3.218334</td>\n",
       "      <td>3.088310</td>\n",
       "    </tr>\n",
       "    <tr>\n",
       "      <th>75%</th>\n",
       "      <td>4.193292</td>\n",
       "      <td>4.150955</td>\n",
       "      <td>3.922308</td>\n",
       "      <td>4.239956</td>\n",
       "      <td>4.414307</td>\n",
       "      <td>3.965504</td>\n",
       "      <td>3.998859</td>\n",
       "      <td>4.317281</td>\n",
       "      <td>4.286614</td>\n",
       "      <td>4.533921</td>\n",
       "      <td>4.242412</td>\n",
       "      <td>4.630275</td>\n",
       "      <td>4.267792</td>\n",
       "    </tr>\n",
       "    <tr>\n",
       "      <th>max</th>\n",
       "      <td>1993.694500</td>\n",
       "      <td>1993.257657</td>\n",
       "      <td>1989.064744</td>\n",
       "      <td>1993.454175</td>\n",
       "      <td>1993.171679</td>\n",
       "      <td>1991.956090</td>\n",
       "      <td>1992.661435</td>\n",
       "      <td>1994.637978</td>\n",
       "      <td>1993.403880</td>\n",
       "      <td>1993.207321</td>\n",
       "      <td>1994.717540</td>\n",
       "      <td>1992.266575</td>\n",
       "      <td>1991.967600</td>\n",
       "    </tr>\n",
       "  </tbody>\n",
       "</table>\n",
       "</div>"
      ],
      "text/plain": [
       "          Cluster0     Cluster1     Cluster2     Cluster3     Cluster4  \\\n",
       "count    70.000000    70.000000    70.000000    70.000000    70.000000   \n",
       "mean     42.138531    40.800102    37.940626    40.634716    37.513094   \n",
       "std     253.280995   249.303135   243.386531   249.156413   242.135323   \n",
       "min      -0.015552    -0.046462    -0.363220    -2.047546     0.003703   \n",
       "25%       0.687165     1.121553     0.674045     0.959077     0.803916   \n",
       "50%       3.264121     3.378745     2.903909     3.368757     3.244704   \n",
       "75%       4.193292     4.150955     3.922308     4.239956     4.414307   \n",
       "max    1993.694500  1993.257657  1989.064744  1993.454175  1993.171679   \n",
       "\n",
       "          Cluster5     Cluster6     Cluster7     Cluster8     Cluster9  \\\n",
       "count    70.000000    70.000000    70.000000    70.000000    70.000000   \n",
       "mean     40.877414    39.939621    41.262101    42.641644    41.821219   \n",
       "std     249.811701   247.286132   251.228957   255.349941   252.125144   \n",
       "min      -0.036708    -0.014169    -0.673777    -0.161973    -0.186264   \n",
       "25%       1.112755     0.899555     0.693772     0.672668     0.784532   \n",
       "50%       3.226300     3.180928     2.892305     2.673495     2.967778   \n",
       "75%       3.965504     3.998859     4.317281     4.286614     4.533921   \n",
       "max    1991.956090  1992.661435  1994.637978  1993.403880  1993.207321   \n",
       "\n",
       "         Cluster10    Cluster11    Cluster12  \n",
       "count    70.000000    70.000000    70.000000  \n",
       "mean     43.071038    42.554210    40.202792  \n",
       "std     256.317170   253.955144   248.259447  \n",
       "min      -0.017213    -0.013029    -0.574209  \n",
       "25%       0.583789     0.992996     0.769409  \n",
       "50%       3.050793     3.218334     3.088310  \n",
       "75%       4.242412     4.630275     4.267792  \n",
       "max    1994.717540  1992.266575  1991.967600  "
      ]
     },
     "execution_count": 575,
     "metadata": {},
     "output_type": "execute_result"
    }
   ],
   "source": [
    "revers_t.head()\n",
    "revers_t.describe()"
   ]
  },
  {
   "cell_type": "code",
   "execution_count": 563,
   "metadata": {},
   "outputs": [],
   "source": [
    "def clusters_top_bot_features(cluster_nbr):\n",
    "\tsorted_df = revers_t.sort_values('Cluster{}'.format(cluster_nbr),ascending=False)\n",
    "\ttop_10 = sorted_df[:5]['Cluster{}'.format(cluster_nbr)]\n",
    "\tbot_10 = sorted_df[-5:]['Cluster{}'.format(cluster_nbr)]\n",
    "\tappending = top_10.append(bot_10) #appending series \n",
    "\n",
    "\t#convert series to a dataframe\n",
    "\tsorted_dim = appending.to_frame().reset_index()\n",
    "\t#reassign column names \n",
    "\tsorted_dim.columns = ['Features', 'Cluster{}'.format(cluster_nbr)]\n",
    "\n",
    "\t#plot\n",
    "\treturn sns.barplot(y= 'Features',x='Cluster{}'.format(cluster_nbr), data=sorted_dim).set_title('Top 10 & Bottom 10 Features for each Cluster')\n",
    "\n"
   ]
  },
  {
   "cell_type": "code",
   "execution_count": 570,
   "metadata": {},
   "outputs": [],
   "source": [
    "def clusters_top_bot_features(cluster_nbr):\n",
    "\tsorted_df = revers_t.sort_values('Cluster{}'.format(cluster_nbr),ascending=False)\n",
    "\ttop_10 = sorted_df[:10]['Cluster{}'.format(cluster_nbr)]\n",
    "\n",
    "\n",
    "\t#convert series to a dataframe\n",
    "\tsorted_dim = top_10.to_frame().reset_index()\n",
    "\t#reassign column names \n",
    "\tsorted_dim.columns = ['Features', 'Cluster{}'.format(cluster_nbr)]\n",
    "\n",
    "\t#plot\n",
    "\treturn sns.barplot(y= 'Features',x='Cluster{}'.format(cluster_nbr), data=sorted_dim).set_title('Top 10 & Bottom 10 Features for each Cluster')\n",
    "\n"
   ]
  },
  {
   "cell_type": "code",
   "execution_count": 571,
   "metadata": {},
   "outputs": [
    {
     "data": {
      "text/plain": [
       "Text(0.5,1,'Top 10 & Bottom 10 Features for each Cluster')"
      ]
     },
     "execution_count": 571,
     "metadata": {},
     "output_type": "execute_result"
    },
    {
     "data": {
      "image/png": "[encoded data removed]",
      "text/plain": [
       "<matplotlib.figure.Figure at 0x1a1f417908>"
      ]
     },
     "metadata": {},
     "output_type": "display_data"
    }
   ],
   "source": [
    "# What kinds of people are part of a cluster that is overrepresented in the\n",
    "# customer data compared to the general population?\n",
    "clusters_top_bot_features(9)"
   ]
  },
  {
   "cell_type": "code",
   "execution_count": 574,
   "metadata": {},
   "outputs": [
    {
     "data": {
      "text/plain": [
       "Text(0.5,1,'Top 10 & Bottom 10 Features for each Cluster')"
      ]
     },
     "execution_count": 574,
     "metadata": {},
     "output_type": "execute_result"
    },
    {
     "data": {
      "image/png": "[encoded data removed]",
      "text/plain": [
       "<matplotlib.figure.Figure at 0x1a1f12aa90>"
      ]
     },
     "metadata": {},
     "output_type": "display_data"
    }
   ],
   "source": [
    "# What kinds of people are part of a cluster that is underrepresented in the\n",
    "# customer data compared to the general population?\n",
    "\n",
    "clusters_top_bot_features(11)"
   ]
  },
  {
   "cell_type": "markdown",
   "metadata": {},
   "source": [
    "### Discussion 3.3: Compare Customer Data to Demographics Data\n",
    "\n",
    "(Double-click this cell and replace this text with your own text, reporting findings and conclusions from the clustering analysis. Can we describe segments of the population that are relatively popular with the mail-order company, or relatively unpopular with the company?)"
   ]
  },
  {
   "cell_type": "markdown",
   "metadata": {},
   "source": [
    "> Congratulations on making it this far in the project! Before you finish, make sure to check through the entire notebook from top to bottom to make sure that your analysis follows a logical flow and all of your findings are documented in **Discussion** cells. Once you've checked over all of your work, you should export the notebook as an HTML document to submit for evaluation. You can do this from the menu, navigating to **File -> Download as -> HTML (.html)**. You will submit both that document and this notebook for your project submission."
   ]
  },
  {
   "cell_type": "code",
   "execution_count": null,
   "metadata": {},
   "outputs": [],
   "source": []
  }
 ],
 "metadata": {
  "kernelspec": {
   "display_name": "Python 3",
   "language": "python",
   "name": "python3"
  },
  "language_info": {
   "codemirror_mode": {
    "name": "ipython",
    "version": 3
   },
   "file_extension": ".py",
   "mimetype": "text/x-python",
   "name": "python",
   "nbconvert_exporter": "python",
   "pygments_lexer": "ipython3",
   "version": "3.6.4"
  }
 },
 "nbformat": 4,
 "nbformat_minor": 2
}
